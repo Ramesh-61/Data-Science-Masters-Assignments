{
 "cells": [
  {
   "cell_type": "markdown",
   "metadata": {},
   "source": [
    "1. What is the relationship between def statements and lambda expressions ?"
   ]
  },
  {
   "cell_type": "markdown",
   "metadata": {},
   "source": [
    "def and lambda expressions are used to define functions.\n",
    "\n",
    "But lambda function are annonymous which are defined without name."
   ]
  },
  {
   "cell_type": "code",
   "execution_count": null,
   "metadata": {},
   "outputs": [],
   "source": []
  },
  {
   "cell_type": "markdown",
   "metadata": {},
   "source": [
    "2. What is the benefit of lambda?"
   ]
  },
  {
   "cell_type": "markdown",
   "metadata": {},
   "source": [
    "lambda functions can be quickly created in a single line. Function objets are returned by lambda expression wor exactly same as standard functions defined with def statement."
   ]
  },
  {
   "cell_type": "code",
   "execution_count": null,
   "metadata": {},
   "outputs": [],
   "source": []
  },
  {
   "cell_type": "markdown",
   "metadata": {},
   "source": [
    "3. Compare and contrast map, filter, and reduce."
   ]
  },
  {
   "cell_type": "markdown",
   "metadata": {},
   "source": [
    "map, filter and reduce function takes two arguments function and sequence iterable and function is applied on the iterable.\n",
    "\n",
    "map applies function to all the elements of sequence and returns new list with the elements changed by the function.\n",
    "\n",
    "reduce function continuosly applies function to all the elements of sequecne and return a single value.\n",
    "\n",
    "filter applies function(which returns boolean) to all the elements of sequence and return new list of elements for which the function returns true"
   ]
  },
  {
   "cell_type": "code",
   "execution_count": 1,
   "metadata": {},
   "outputs": [
    {
     "data": {
      "text/plain": [
       "[1, 16, 100, 25]"
      ]
     },
     "execution_count": 1,
     "metadata": {},
     "output_type": "execute_result"
    }
   ],
   "source": [
    "#map\n",
    "def square(n):\n",
    "    return n** 2\n",
    "\n",
    "lst=[1,4,10,5]\n",
    "list(map(square,lst))"
   ]
  },
  {
   "cell_type": "code",
   "execution_count": 8,
   "metadata": {},
   "outputs": [
    {
     "data": {
      "text/plain": [
       "59"
      ]
     },
     "execution_count": 8,
     "metadata": {},
     "output_type": "execute_result"
    }
   ],
   "source": [
    "#reduce\n",
    "from functools import reduce\n",
    "def add_num(a,b):\n",
    "    return a+b\n",
    "lst1=[10,12,17,20]\n",
    "reduce(add_num,lst1)"
   ]
  },
  {
   "cell_type": "code",
   "execution_count": 7,
   "metadata": {},
   "outputs": [
    {
     "data": {
      "text/plain": [
       "[2, 4, 6]"
      ]
     },
     "execution_count": 7,
     "metadata": {},
     "output_type": "execute_result"
    }
   ],
   "source": [
    "#filter\n",
    "def even(n):\n",
    "    if n%2 == 0:\n",
    "        return True\n",
    "    else:\n",
    "        return False\n",
    "lst2=[1,2,3,4,5,6]\n",
    "list(filter(even,lst2))"
   ]
  },
  {
   "cell_type": "code",
   "execution_count": null,
   "metadata": {},
   "outputs": [],
   "source": []
  },
  {
   "cell_type": "markdown",
   "metadata": {},
   "source": [
    "4. What are function annotations, and how are they used?"
   ]
  },
  {
   "cell_type": "raw",
   "metadata": {},
   "source": [
    "Function annotations are arbitary pytgon expressions attached to various parts of function and these annotation do not have any significance.\n",
    "\n",
    "\n",
    "Annotating function arguments and return values is as follows:\n",
    "\n",
    "def func(arg1:int,arg2:float) -> float\n",
    "\n",
    "Annotations are stored in attribute __annotation__ of the function: func.__annotation__"
   ]
  },
  {
   "cell_type": "code",
   "execution_count": null,
   "metadata": {},
   "outputs": [],
   "source": []
  },
  {
   "cell_type": "markdown",
   "metadata": {},
   "source": [
    "5. What are recursive functions, and how are they used?"
   ]
  },
  {
   "cell_type": "markdown",
   "metadata": {},
   "source": [
    "Recursive function is a function which will continue to call itself and repeat its behaviour until some condition is met.\n",
    "\n",
    "Recursive functions are used when solving a problem by breaking it into smaller and repetitive problems.\n",
    "\n",
    "def func1():\n",
    "\n",
    "    ....\n",
    "    \n",
    "    ....\n",
    "    \n",
    "    func1()    "
   ]
  },
  {
   "cell_type": "code",
   "execution_count": 11,
   "metadata": {},
   "outputs": [
    {
     "data": {
      "text/plain": [
       "120"
      ]
     },
     "execution_count": 11,
     "metadata": {},
     "output_type": "execute_result"
    }
   ],
   "source": [
    "#calculating the factorial using recursion\n",
    "def get_factorial(n):\n",
    "    if n == 1:\n",
    "        return 1\n",
    "    else:\n",
    "        return n*get_factorial(n-1)\n",
    "get_factorial(5)"
   ]
  },
  {
   "cell_type": "code",
   "execution_count": null,
   "metadata": {},
   "outputs": [],
   "source": []
  },
  {
   "cell_type": "markdown",
   "metadata": {},
   "source": [
    "6. What are some general design guidelines for coding functions?"
   ]
  },
  {
   "cell_type": "markdown",
   "metadata": {},
   "source": [
    "Function names should be lowercase, with words separated by underscores as necessary to improve readability.\n",
    "\n",
    "A function definition will often include documentation describing the function, called a docstring, which must be indented along with the function body. Docstrings are conventionally triple quoted. The first line describes the job of the function in one line.\n",
    "\n",
    "Comments in Python can be attached to the end of a line following the # symbol. \n",
    "\n",
    "Use 4-space indentation and no tabs.\n",
    "\n",
    "Wrap linethat they don’t exceed 79 characters.\n",
    "\n",
    "Don’t use non-ASCII characters in identifiers"
   ]
  },
  {
   "cell_type": "code",
   "execution_count": null,
   "metadata": {},
   "outputs": [],
   "source": []
  },
  {
   "cell_type": "markdown",
   "metadata": {},
   "source": [
    "7. Name three or more ways that functions can communicate results to a caller."
   ]
  },
  {
   "cell_type": "markdown",
   "metadata": {},
   "source": [
    "Function:\n",
    "\n",
    "can return single value\n",
    "\n",
    "Can return multiple values, tuple\n",
    "\n",
    "can return list,dictionary\n",
    "\n",
    "can return function object\n",
    "\n",
    "can return class object"
   ]
  },
  {
   "cell_type": "code",
   "execution_count": null,
   "metadata": {},
   "outputs": [],
   "source": []
  }
 ],
 "metadata": {
  "kernelspec": {
   "display_name": "Python 3",
   "language": "python",
   "name": "python3"
  },
  "language_info": {
   "codemirror_mode": {
    "name": "ipython",
    "version": 3
   },
   "file_extension": ".py",
   "mimetype": "text/x-python",
   "name": "python",
   "nbconvert_exporter": "python",
   "pygments_lexer": "ipython3",
   "version": "3.7.3"
  }
 },
 "nbformat": 4,
 "nbformat_minor": 2
}
