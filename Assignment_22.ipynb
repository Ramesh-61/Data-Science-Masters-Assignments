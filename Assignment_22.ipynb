{
 "cells": [
  {
   "cell_type": "markdown",
   "metadata": {},
   "source": [
    "1. What is the result of the code, and explain?\n",
    "\n",
    "->> X = 'iNeuron'\n",
    "\n",
    "->> def func():\n",
    "\n",
    "print(X)\n",
    "\n",
    "\n",
    "->> func()"
   ]
  },
  {
   "cell_type": "markdown",
   "metadata": {},
   "source": [
    "The output of the code is 'ineuron'.\n",
    "\n",
    "The string X is defined at the global level and its value can be accessed inside the function func(), so the value of x is printed"
   ]
  },
  {
   "cell_type": "code",
   "execution_count": null,
   "metadata": {},
   "outputs": [],
   "source": []
  },
  {
   "cell_type": "markdown",
   "metadata": {},
   "source": [
    "\n",
    "2. What is the result of the code, and explain?\n",
    "\n",
    "\n",
    "->> X = 'iNeuron'\n",
    "\n",
    "->> def func():\n",
    "\n",
    "X = 'NI!'\n",
    "\n",
    "\n",
    "->> func()\n",
    "\n",
    "->> print(X)"
   ]
  },
  {
   "cell_type": "markdown",
   "metadata": {},
   "source": [
    "The output of the code is 'ineuron'.\n",
    "\n",
    "X='iNeuron' is defined at the global level and inside the function func() there is a local variable with the same name X and is assgned to 'NI!' and the scope of this local variable is within the function. So when func() is called before print statement,\n",
    "the local variable X is assigned with 'NI! and when the function execution is done, local variable does not exist. \n",
    "\n",
    "When print(X) is executed, it prints the string 'iNeuron'"
   ]
  },
  {
   "cell_type": "code",
   "execution_count": null,
   "metadata": {},
   "outputs": [],
   "source": []
  },
  {
   "cell_type": "markdown",
   "metadata": {},
   "source": [
    "3. What does this code print, and why?\n",
    "\n",
    "\n",
    ">>> X = 'iNeuron'\n",
    "\n",
    ">>> def func():\n",
    "\n",
    "X = 'NI'\n",
    "\n",
    "print(X)\n",
    "\n",
    "\n",
    ">>> func()\n",
    "\n",
    ">>> print(X)"
   ]
  },
  {
   "cell_type": "markdown",
   "metadata": {},
   "source": [
    "The result is:\n",
    "NI\n",
    "iNeuron\n",
    "\n",
    "when func() is called, it prints NI which is the value assigned to the local variable X of the function func().\n",
    "\n",
    "When print(X) is executed, it prints iNeuron which is the value assigned to the global variable X"
   ]
  },
  {
   "cell_type": "code",
   "execution_count": null,
   "metadata": {},
   "outputs": [],
   "source": []
  },
  {
   "cell_type": "raw",
   "metadata": {},
   "source": [
    "\n",
    "4. What output does this code produce? Why?\n",
    "\n",
    "\n",
    ">>> X = 'iNeuron'\n",
    ">>> def func():\n",
    "global X\n",
    "X = 'NI'\n",
    "\n",
    "\n",
    ">>> func()\n",
    ">>> print(X)"
   ]
  },
  {
   "cell_type": "markdown",
   "metadata": {},
   "source": [
    "The ouput is NI\n",
    "\n",
    "The value of the global variable can be modified inside the function by using the global keyword.\n",
    "\n",
    "So, when func() is called, the global variable X is changed from 'iNeuron' to 'NI'. When print(X) is executed, it prints the value of X which is NI"
   ]
  },
  {
   "cell_type": "code",
   "execution_count": null,
   "metadata": {},
   "outputs": [],
   "source": []
  },
  {
   "cell_type": "markdown",
   "metadata": {},
   "source": [
    "5. What about this code—what’s the output, and why?\n",
    "\n",
    "\n",
    "->> X = 'iNeuron'\n",
    "\n",
    "->> def func():\n",
    "\n",
    "X = 'NI'\n",
    "\n",
    "def nested():\n",
    "\n",
    "print(X)\n",
    "\n",
    "nested()\n",
    "\n",
    "\n",
    "->> func()\n",
    "\n",
    "->> X"
   ]
  },
  {
   "cell_type": "markdown",
   "metadata": {},
   "source": [
    "The ouput is:\n",
    "    \n",
    "NI\n",
    "\n",
    "iNeuron\n",
    "\n",
    "Local variable X defined inside the func() function can be accessed inside the nested function nested() of function func(). So, when \n",
    "func() is called, X is assgned with 'NI' and nested function is called inside the function func and nested function prints 'NI'.\n",
    "When the last statement X is executed, it prints the value of global varibale X which is 'iNeuron'."
   ]
  },
  {
   "cell_type": "code",
   "execution_count": null,
   "metadata": {},
   "outputs": [],
   "source": []
  },
  {
   "cell_type": "markdown",
   "metadata": {},
   "source": [
    "6. How about this code: what is its output in Python 3, and explain?\n",
    "\n",
    "\n",
    "->> def func():\n",
    "\n",
    "X = 'NI'\n",
    "\n",
    "def nested():\n",
    "\n",
    "nonlocal X\n",
    "\n",
    "X = 'Spam'\n",
    "\n",
    "nested()\n",
    "\n",
    "print(X)\n",
    "\n",
    "\n",
    "->> func()"
   ]
  },
  {
   "cell_type": "markdown",
   "metadata": {},
   "source": [
    "The output is:\n",
    "\n",
    "Spam\n",
    "\n",
    "The nonlocal keyword is used to work with the variables inside the nested function and it tells that the variable is not local for the nested function. \n",
    "\n",
    "When func() is called, it assigns the value 'NI' to its local variable X and then it calls nested function which access local variable of the function func() using nonlocal keyword and modifies the value to the 'Spam'. So when print(x) is executed, it prints 'Spam'. \n"
   ]
  },
  {
   "cell_type": "code",
   "execution_count": null,
   "metadata": {},
   "outputs": [],
   "source": []
  }
 ],
 "metadata": {
  "kernelspec": {
   "display_name": "Python 3",
   "language": "python",
   "name": "python3"
  },
  "language_info": {
   "codemirror_mode": {
    "name": "ipython",
    "version": 3
   },
   "file_extension": ".py",
   "mimetype": "text/x-python",
   "name": "python",
   "nbconvert_exporter": "python",
   "pygments_lexer": "ipython3",
   "version": "3.7.3"
  }
 },
 "nbformat": 4,
 "nbformat_minor": 2
}
