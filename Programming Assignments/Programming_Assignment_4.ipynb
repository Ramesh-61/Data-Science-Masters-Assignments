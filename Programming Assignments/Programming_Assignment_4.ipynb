{
 "cells": [
  {
   "cell_type": "markdown",
   "metadata": {},
   "source": [
    "1.Write a Python Program to Find the Factorial of a Number?"
   ]
  },
  {
   "cell_type": "code",
   "execution_count": 3,
   "metadata": {},
   "outputs": [
    {
     "name": "stdout",
     "output_type": "stream",
     "text": [
      "Enter the number: 5\n",
      "Factorial of 5 is 120\n"
     ]
    }
   ],
   "source": [
    "num = int(input(\"Enter the number: \"))\n",
    "fac=1\n",
    "for i in range(1,num+1):\n",
    "    fac *=i\n",
    "    \n",
    "print(f'Factorial of {num} is {fac}')\n",
    "    "
   ]
  },
  {
   "cell_type": "code",
   "execution_count": null,
   "metadata": {},
   "outputs": [],
   "source": []
  },
  {
   "cell_type": "markdown",
   "metadata": {},
   "source": [
    "2.Write a Python Program to Display the multiplication Table?"
   ]
  },
  {
   "cell_type": "code",
   "execution_count": 8,
   "metadata": {},
   "outputs": [
    {
     "name": "stdout",
     "output_type": "stream",
     "text": [
      "Enter the number for the multiplication table:8\n",
      "8 x 1 = 8\n",
      "8 x 2 = 16\n",
      "8 x 3 = 24\n",
      "8 x 4 = 32\n",
      "8 x 5 = 40\n",
      "8 x 6 = 48\n",
      "8 x 7 = 56\n",
      "8 x 8 = 64\n",
      "8 x 9 = 72\n",
      "8 x 10 = 80\n"
     ]
    }
   ],
   "source": [
    "num=int(input(\"Enter the number for the multiplication table:\"))\n",
    "for i in range(1,11):\n",
    "    print(num,'x',i,'=',num*i)"
   ]
  },
  {
   "cell_type": "code",
   "execution_count": null,
   "metadata": {},
   "outputs": [],
   "source": []
  },
  {
   "cell_type": "markdown",
   "metadata": {},
   "source": [
    "Write a Python Program to Print the Fibonacci sequence?"
   ]
  },
  {
   "cell_type": "code",
   "execution_count": 10,
   "metadata": {},
   "outputs": [
    {
     "name": "stdout",
     "output_type": "stream",
     "text": [
      "Enter the number for the fibonacci sequence to generate: 10\n",
      "0\n",
      "1\n",
      "1\n",
      "2\n",
      "3\n",
      "5\n",
      "8\n",
      "13\n",
      "21\n",
      "34\n"
     ]
    }
   ],
   "source": [
    "num=int(input(\"Enter the number for the fibonacci sequence to generate: \"))\n",
    "\n",
    "n1,n2=0,1\n",
    "\n",
    "if num <= 0:\n",
    "    print(\"Enter a positive integer\")\n",
    "elif num==1:\n",
    "    print(n1)\n",
    "else:\n",
    "    for i in range(num):\n",
    "        print(n1)\n",
    "        n3=n1+n2\n",
    "        n1=n2\n",
    "        n2=n3"
   ]
  },
  {
   "cell_type": "code",
   "execution_count": null,
   "metadata": {},
   "outputs": [],
   "source": []
  },
  {
   "cell_type": "markdown",
   "metadata": {},
   "source": [
    "4.Write a Python Program to Check Armstrong Number?"
   ]
  },
  {
   "cell_type": "code",
   "execution_count": 15,
   "metadata": {},
   "outputs": [
    {
     "name": "stdout",
     "output_type": "stream",
     "text": [
      "Enter the number:153\n",
      "153 is a Armstrong number\n"
     ]
    }
   ],
   "source": [
    "#program to determine Armstrong number\n",
    "n=int(input('Enter the number:'))\n",
    "m=n\n",
    "sum=0\n",
    "digit=0\n",
    "while n>0:\n",
    "    digit=n%10\n",
    "    n=n//10\n",
    "    sum+=digit**3\n",
    "\n",
    "if sum==m:\n",
    "    print(f'{m} is a Armstrong number')\n",
    "else:\n",
    "    print(f'{m} is not a Armstrong number')"
   ]
  },
  {
   "cell_type": "code",
   "execution_count": null,
   "metadata": {},
   "outputs": [],
   "source": []
  },
  {
   "cell_type": "markdown",
   "metadata": {},
   "source": [
    "5.Write a Python Program to Find Armstrong Number in an Interval?"
   ]
  },
  {
   "cell_type": "code",
   "execution_count": 17,
   "metadata": {},
   "outputs": [
    {
     "name": "stdout",
     "output_type": "stream",
     "text": [
      "Enter the lower limit in the interval: 10\n",
      "Enter the upper limit in the interval: 200\n",
      "153\n"
     ]
    }
   ],
   "source": [
    "lower=int(input(\"Enter the lower limit in the interval: \"))\n",
    "upper=int(input(\"Enter the upper limit in the interval: \"))\n",
    "\n",
    "for num in range(lower, upper+1):\n",
    "    m=num\n",
    "    sum=0\n",
    "    digit=0\n",
    "    while num>0:\n",
    "        digit=num%10\n",
    "        num=num//10\n",
    "        sum+=digit** 3\n",
    "    if sum == m:\n",
    "        print(m)\n",
    "    "
   ]
  },
  {
   "cell_type": "code",
   "execution_count": null,
   "metadata": {},
   "outputs": [],
   "source": []
  },
  {
   "cell_type": "markdown",
   "metadata": {},
   "source": [
    "6.Write a Python Program to Find the Sum of Natural Numbers?"
   ]
  },
  {
   "cell_type": "code",
   "execution_count": 19,
   "metadata": {},
   "outputs": [
    {
     "name": "stdout",
     "output_type": "stream",
     "text": [
      "Enter the positive integer: 16\n",
      "Sum of natural numbers till 16 is  136\n"
     ]
    }
   ],
   "source": [
    "num=int(input(\"Enter the positive integer: \"))\n",
    "sum=0\n",
    "for i in range(num+1):\n",
    "    sum+=i\n",
    "print(f\"Sum of natural numbers till {num} is \",sum)"
   ]
  },
  {
   "cell_type": "code",
   "execution_count": null,
   "metadata": {},
   "outputs": [],
   "source": []
  }
 ],
 "metadata": {
  "kernelspec": {
   "display_name": "Python 3",
   "language": "python",
   "name": "python3"
  },
  "language_info": {
   "codemirror_mode": {
    "name": "ipython",
    "version": 3
   },
   "file_extension": ".py",
   "mimetype": "text/x-python",
   "name": "python",
   "nbconvert_exporter": "python",
   "pygments_lexer": "ipython3",
   "version": "3.7.3"
  }
 },
 "nbformat": 4,
 "nbformat_minor": 2
}
