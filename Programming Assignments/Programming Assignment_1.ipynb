{
 "cells": [
  {
   "cell_type": "markdown",
   "metadata": {},
   "source": [
    "1.Write a python program to print \"Hello Python\"?"
   ]
  },
  {
   "cell_type": "code",
   "execution_count": 1,
   "metadata": {},
   "outputs": [
    {
     "name": "stdout",
     "output_type": "stream",
     "text": [
      "Hello Python\n"
     ]
    }
   ],
   "source": [
    "print(\"Hello Python\")"
   ]
  },
  {
   "cell_type": "code",
   "execution_count": null,
   "metadata": {},
   "outputs": [],
   "source": []
  },
  {
   "cell_type": "markdown",
   "metadata": {},
   "source": [
    "2.Write a python program to do arithmetic operations addition and division?"
   ]
  },
  {
   "cell_type": "code",
   "execution_count": 3,
   "metadata": {},
   "outputs": [
    {
     "name": "stdout",
     "output_type": "stream",
     "text": [
      "Enter a number:10\n",
      "Enter another number2\n",
      "Addition of two numbers 10 and 2 is: 12\n",
      "Division of two numbers 10 and 2 is: 5.0\n"
     ]
    }
   ],
   "source": [
    "a=int(input(\"Enter a number:\"))\n",
    "b=int(input(\"Enter another number\"))\n",
    "print(f\"Addition of two numbers {a} and {b} is:\", a+b)\n",
    "print(f\"Division of two numbers {a} and {b} is:\", a/b)"
   ]
  },
  {
   "cell_type": "code",
   "execution_count": null,
   "metadata": {},
   "outputs": [],
   "source": []
  },
  {
   "cell_type": "markdown",
   "metadata": {},
   "source": [
    "3.Write a python program to find area of triangle?"
   ]
  },
  {
   "cell_type": "code",
   "execution_count": 10,
   "metadata": {},
   "outputs": [
    {
     "name": "stdout",
     "output_type": "stream",
     "text": [
      "Enter the first side of traingle: 5\n",
      "Enter the second side of traingle: 6\n",
      "Enter the third side of traingle: 7\n",
      "Area of triagnle is 14.70\n"
     ]
    }
   ],
   "source": [
    "#Read the inputs from the user for sides of triangle\n",
    "a=float(input(\"Enter the first side of traingle: \"))\n",
    "b=float(input(\"Enter the second side of traingle: \"))\n",
    "c=float(input(\"Enter the third side of traingle: \"))\n",
    "\n",
    "#Calculate the semi-perimeter\n",
    "s=(a+b+c)/2\n",
    "\n",
    "#calculate the area\n",
    "area= (s*(s-a)*(s-b)*(s-c)) ** 0.5\n",
    "\n",
    "print('Area of triagnle is %0.2f' %(area))"
   ]
  },
  {
   "cell_type": "code",
   "execution_count": null,
   "metadata": {},
   "outputs": [],
   "source": []
  },
  {
   "cell_type": "markdown",
   "metadata": {},
   "source": [
    "4. Write a Python program to swap two variables?"
   ]
  },
  {
   "cell_type": "code",
   "execution_count": 13,
   "metadata": {},
   "outputs": [
    {
     "name": "stdout",
     "output_type": "stream",
     "text": [
      "Enter an number: 3\n",
      "Enter another number: 5\n",
      "Before swapping x and y is 3 5\n",
      "After swapping x and y is 5 3\n"
     ]
    }
   ],
   "source": [
    "x=int(input(\"Enter an number: \"))\n",
    "y=int(input(\"Enter another number: \"))\n",
    "print(\"Before swapping x and y is\", x,y)\n",
    "t=x\n",
    "x=y\n",
    "y=t\n",
    "print(\"After swapping x and y is\",x,y)"
   ]
  },
  {
   "cell_type": "markdown",
   "metadata": {},
   "source": []
  },
  {
   "cell_type": "markdown",
   "metadata": {},
   "source": [
    "5. Write a Python program to generate random number?"
   ]
  },
  {
   "cell_type": "code",
   "execution_count": 16,
   "metadata": {},
   "outputs": [
    {
     "name": "stdout",
     "output_type": "stream",
     "text": [
      "Random number:  0.4389304160080435\n"
     ]
    }
   ],
   "source": [
    "import random\n",
    "print(\"Random number: \", random.random())"
   ]
  },
  {
   "cell_type": "code",
   "execution_count": null,
   "metadata": {},
   "outputs": [],
   "source": []
  }
 ],
 "metadata": {
  "kernelspec": {
   "display_name": "Python 3",
   "language": "python",
   "name": "python3"
  },
  "language_info": {
   "codemirror_mode": {
    "name": "ipython",
    "version": 3
   },
   "file_extension": ".py",
   "mimetype": "text/x-python",
   "name": "python",
   "nbconvert_exporter": "python",
   "pygments_lexer": "ipython3",
   "version": "3.7.3"
  }
 },
 "nbformat": 4,
 "nbformat_minor": 2
}
