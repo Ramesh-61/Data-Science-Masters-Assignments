{
 "cells": [
  {
   "cell_type": "markdown",
   "metadata": {},
   "source": [
    "1.Write a Python program to check if the given number is a Disarium Number?"
   ]
  },
  {
   "cell_type": "code",
   "execution_count": 2,
   "metadata": {},
   "outputs": [
    {
     "name": "stdout",
     "output_type": "stream",
     "text": [
      "Enter the number: 135\n",
      "Number is Disarium\n"
     ]
    }
   ],
   "source": [
    "# A number is called Disarium if sum of its digits powered with their respective positions is equal to the number itself.\n",
    "\n",
    "def disarium(n):\n",
    "    if n<=0:\n",
    "        return \"Please enter positive integer\"\n",
    "    else:\n",
    "        sum=0\n",
    "        m=n\n",
    "        count=len(str(n))\n",
    "        while n!=0:\n",
    "            digit=n%10\n",
    "            n=n//10\n",
    "            sum+=pow(digit,count)\n",
    "            count-=1\n",
    "    if sum == m:\n",
    "        return \"Number is Disarium\"\n",
    "    else:\n",
    "        return \"Number is not disarium\"\n",
    "\n",
    "num=int(input(\"Enter the number: \"))\n",
    "print(disarium(num))"
   ]
  },
  {
   "cell_type": "code",
   "execution_count": 3,
   "metadata": {},
   "outputs": [
    {
     "data": {
      "text/plain": [
       "'Number is not disarium'"
      ]
     },
     "execution_count": 3,
     "metadata": {},
     "output_type": "execute_result"
    }
   ],
   "source": [
    "disarium(100)"
   ]
  },
  {
   "cell_type": "code",
   "execution_count": null,
   "metadata": {},
   "outputs": [],
   "source": []
  },
  {
   "cell_type": "markdown",
   "metadata": {},
   "source": [
    "2.Write a Python program to print all disarium numbers between 1 to 100?"
   ]
  },
  {
   "cell_type": "code",
   "execution_count": 5,
   "metadata": {},
   "outputs": [
    {
     "name": "stdout",
     "output_type": "stream",
     "text": [
      "Disarium number from 1 to 100: [1, 2, 3, 4, 5, 6, 7, 8, 9, 89]\n"
     ]
    }
   ],
   "source": [
    "# A number is called Disarium if sum of its digits powered with their respective positions is equal to the number itself.\n",
    "\n",
    "def disarium(n):\n",
    "    sum=0\n",
    "    m=n\n",
    "    count=len(str(n))\n",
    "    while n!=0:\n",
    "        digit=n%10\n",
    "        n=n//10\n",
    "        sum+=pow(digit,count)\n",
    "        count-=1\n",
    "    if sum == m:\n",
    "        return True\n",
    "    else:\n",
    "        return False\n",
    "\n",
    "disarium_lst=[]\n",
    "for i in range(1,101):\n",
    "    if disarium(i):\n",
    "        disarium_lst.append(i)\n",
    "print(\"Disarium number from 1 to 100:\", disarium_lst)"
   ]
  },
  {
   "cell_type": "code",
   "execution_count": null,
   "metadata": {},
   "outputs": [],
   "source": []
  },
  {
   "cell_type": "markdown",
   "metadata": {},
   "source": [
    "3.Write a Python program to check if the given number is Happy Number?"
   ]
  },
  {
   "cell_type": "code",
   "execution_count": 10,
   "metadata": {},
   "outputs": [
    {
     "name": "stdout",
     "output_type": "stream",
     "text": [
      "Enter the positive integer: 82\n",
      "82 is a happy number\n"
     ]
    }
   ],
   "source": [
    "def check_happy_num(my_num):\n",
    "    remaining = 0\n",
    "    sum_val = 0\n",
    "    while (my_num > 0):\n",
    "        remaining = my_num%10\n",
    "        sum_val = sum_val + (remaining*remaining)\n",
    "        my_num = my_num//10\n",
    "    return sum_val;\n",
    "\n",
    "num=int(input(\"Enter the positive integer: \"))\n",
    "result = num\n",
    "while(result != 1 and result != 4):\n",
    "    result = check_happy_num(result);\n",
    "\n",
    "if(result == 1):\n",
    "    print(str(num) + \" is a happy number\");\n",
    "elif(my_result == 4):\n",
    "    print(str(num) + \" isn't a happy number\");"
   ]
  },
  {
   "cell_type": "code",
   "execution_count": null,
   "metadata": {},
   "outputs": [],
   "source": []
  },
  {
   "cell_type": "markdown",
   "metadata": {},
   "source": [
    "4.Write a Python program to print all happy numbers between 1 and 100?"
   ]
  },
  {
   "cell_type": "code",
   "execution_count": 9,
   "metadata": {},
   "outputs": [
    {
     "name": "stdout",
     "output_type": "stream",
     "text": [
      "Happy numbers from 1 to 100: [1, 7, 10, 13, 19, 23, 28, 31, 32, 44, 49, 68, 70, 79, 82, 86, 91, 94, 97, 100]\n"
     ]
    }
   ],
   "source": [
    "def check_happy_num(my_num):\n",
    "    remaining = 0\n",
    "    sum_val = 0\n",
    "    while (my_num > 0):\n",
    "        remaining = my_num%10\n",
    "        sum_val = sum_val + (remaining*remaining)\n",
    "        my_num = my_num//10\n",
    "    return sum_val;\n",
    "\n",
    "happy_nums=[]\n",
    "for num in range(1,101):\n",
    "    res=num\n",
    "    while(num != 1 and num != 4):\n",
    "        num = check_happy_num(num)\n",
    "    if(num == 1):\n",
    "        happy_nums.append(res)\n",
    "    \n",
    "print(\"Happy numbers from 1 to 100:\",happy_nums)"
   ]
  },
  {
   "cell_type": "code",
   "execution_count": null,
   "metadata": {},
   "outputs": [],
   "source": []
  },
  {
   "cell_type": "markdown",
   "metadata": {},
   "source": [
    "5.Write a Python program to determine whether the given number is a Harshad Number?"
   ]
  },
  {
   "cell_type": "code",
   "execution_count": 13,
   "metadata": {},
   "outputs": [
    {
     "name": "stdout",
     "output_type": "stream",
     "text": [
      "Enter positive integer74\n",
      "74 is not a Harshad number\n"
     ]
    }
   ],
   "source": [
    "#If a number is divisible by the sum of its digits, then the number is a Harshad Number.\n",
    "def isHarshad(n):\n",
    "    digit=0\n",
    "    temp=n\n",
    "    dig_sum=0\n",
    "    while temp!=0:\n",
    "        digit=temp%10\n",
    "        temp=temp//10\n",
    "        dig_sum+=digit\n",
    "    if n%dig_sum == 0:\n",
    "        return \"{} is a Harshad number\".format(n)\n",
    "    else:\n",
    "        return \"{} is not a Harshad number\".format(n)\n",
    "\n",
    "num=int(input(\"Enter positive integer\"))\n",
    "if num <=0:\n",
    "    print(\"Please enter positive integer\")\n",
    "else:\n",
    "    print(isHarshad(num))"
   ]
  },
  {
   "cell_type": "code",
   "execution_count": 14,
   "metadata": {},
   "outputs": [
    {
     "data": {
      "text/plain": [
       "'54 is a Harshad number'"
      ]
     },
     "execution_count": 14,
     "metadata": {},
     "output_type": "execute_result"
    }
   ],
   "source": [
    "isHarshad(54)"
   ]
  },
  {
   "cell_type": "code",
   "execution_count": null,
   "metadata": {},
   "outputs": [],
   "source": []
  },
  {
   "cell_type": "markdown",
   "metadata": {},
   "source": [
    "6.Write a Python program to print all pronic numbers between 1 and 100?"
   ]
  },
  {
   "cell_type": "code",
   "execution_count": 16,
   "metadata": {},
   "outputs": [
    {
     "name": "stdout",
     "output_type": "stream",
     "text": [
      "Pronic numbers between 1 and 100: \n",
      "2\n",
      "6\n",
      "12\n",
      "20\n",
      "30\n",
      "42\n",
      "56\n",
      "72\n",
      "90\n"
     ]
    }
   ],
   "source": [
    "#isPronicNumber() will check whether a given number is a pronic number or not    \n",
    "def isPronicNumber(num):    \n",
    "    flag = False;    \n",
    "        \n",
    "    for j in range(1, num+1):    \n",
    "        #Checks for pronic number by multiplying consecutive numbers    \n",
    "        if((j*(j+1)) == num):    \n",
    "            flag = True;    \n",
    "            break;    \n",
    "    return flag;    \n",
    "     \n",
    "#Displays pronic numbers between 1 and 100    \n",
    "print(\"Pronic numbers between 1 and 100: \");    \n",
    "for i in range(1, 101):    \n",
    "    if(isPronicNumber(i)):    \n",
    "        print(i)  "
   ]
  },
  {
   "cell_type": "code",
   "execution_count": null,
   "metadata": {},
   "outputs": [],
   "source": []
  }
 ],
 "metadata": {
  "kernelspec": {
   "display_name": "Python 3",
   "language": "python",
   "name": "python3"
  },
  "language_info": {
   "codemirror_mode": {
    "name": "ipython",
    "version": 3
   },
   "file_extension": ".py",
   "mimetype": "text/x-python",
   "name": "python",
   "nbconvert_exporter": "python",
   "pygments_lexer": "ipython3",
   "version": "3.7.3"
  }
 },
 "nbformat": 4,
 "nbformat_minor": 2
}
