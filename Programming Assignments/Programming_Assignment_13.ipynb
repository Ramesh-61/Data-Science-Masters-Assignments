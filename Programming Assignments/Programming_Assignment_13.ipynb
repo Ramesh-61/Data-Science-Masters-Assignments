{
 "cells": [
  {
   "cell_type": "markdown",
   "metadata": {},
   "source": [
    "Question 1:\n",
    "\n",
    "Write a program that calculates and prints the value according to the given formula:\n",
    "\n",
    "Q = Square root of [(2 * C * D)/H]\n",
    "\n",
    "Following are the fixed values of C and H:\n",
    "\n",
    "C is 50. H is 30.\n",
    "\n",
    "D is the variable whose values should be input to your program in a comma-separated sequence.\n",
    "\n",
    "Example: Let us assume the following comma separated input sequence is given to the program: 100,150,180\n",
    "\n",
    "The output of the program should be: 18,22,24"
   ]
  },
  {
   "cell_type": "code",
   "execution_count": 8,
   "metadata": {},
   "outputs": [
    {
     "name": "stdout",
     "output_type": "stream",
     "text": [
      "Enter the values of D separated by comma: 100,150,180\n",
      "The square root of 100 is 18\n",
      "The square root of 150 is 22\n",
      "The square root of 180 is 24\n"
     ]
    }
   ],
   "source": [
    "def cal_sqrt():\n",
    "    num=input(\"Enter the values of D separated by comma: \")\n",
    "    c=50\n",
    "    h=30\n",
    "    list_nums=num.split(',')\n",
    "    for val in list_nums:\n",
    "        sqrtt=int((2*c*int(val)/h)**0.5)\n",
    "        print(f\"The square root of {val} is {sqrtt}\")\n",
    "\n",
    "#calling the function\n",
    "cal_sqrt()"
   ]
  },
  {
   "cell_type": "code",
   "execution_count": null,
   "metadata": {},
   "outputs": [],
   "source": []
  },
  {
   "cell_type": "markdown",
   "metadata": {},
   "source": [
    "Question 2:\n",
    "    \n",
    "Write a program which takes 2 digits, X,Y as input and generates a 2-dimensional array. The element value in the i-th row and j-th column of the array should be i*j.\n",
    "\n",
    "Note: i=0,1.., X-1; j=0,1,¡Y-1.\n",
    "\n",
    "Example: Suppose the following inputs are given to the program: 3,5\n",
    "\n",
    "Then, the output of the program should be:\n",
    "\n",
    "[[0, 0, 0, 0, 0], [0, 1, 2, 3, 4], [0, 2, 4, 6, 8]] "
   ]
  },
  {
   "cell_type": "code",
   "execution_count": 9,
   "metadata": {},
   "outputs": [
    {
     "name": "stdout",
     "output_type": "stream",
     "text": [
      "Enter the X value: 3\n",
      "Enter the Y value: 5\n"
     ]
    },
    {
     "data": {
      "text/plain": [
       "[[0, 0, 0, 0, 0], [0, 1, 2, 3, 4], [0, 2, 4, 6, 8]]"
      ]
     },
     "execution_count": 9,
     "metadata": {},
     "output_type": "execute_result"
    }
   ],
   "source": [
    "def generate2D(x,y):\n",
    "    final_list=[]\n",
    "    for i in range(x):\n",
    "        element=[]\n",
    "        for j in range(y):\n",
    "            element.append(i*j)\n",
    "        final_list.append(element)\n",
    "    return final_list\n",
    "\n",
    "x=int(input(\"Enter the X value: \"))\n",
    "y=int(input(\"Enter the Y value: \"))\n",
    "generate2D(x,y)"
   ]
  },
  {
   "cell_type": "code",
   "execution_count": null,
   "metadata": {},
   "outputs": [],
   "source": []
  },
  {
   "cell_type": "markdown",
   "metadata": {},
   "source": [
    "Question 3: Write a program that accepts a comma separated sequence of words as input and prints the words in a comma-separated sequence after sorting them alphabetically.\n",
    "\n",
    "Suppose the following input is supplied to the program: without,hello,bag,world\n",
    "\n",
    "Then, the output should be: bag,hello,without,world\n"
   ]
  },
  {
   "cell_type": "code",
   "execution_count": 13,
   "metadata": {},
   "outputs": [
    {
     "name": "stdout",
     "output_type": "stream",
     "text": [
      "Enter the comma separated sequence of words: without,hello,bag,world\n",
      "Comma separated words in alphabetical order:"
     ]
    },
    {
     "data": {
      "text/plain": [
       "'bag,hello,without,world'"
      ]
     },
     "execution_count": 13,
     "metadata": {},
     "output_type": "execute_result"
    }
   ],
   "source": [
    "#accepts the input from the user\n",
    "words=input(\"Enter the comma separated sequence of words: \")\n",
    "#convert the string into list of words\n",
    "lst_words=words.split(',')\n",
    "#order the list of words into alphabetical order and convert it into comma separated string\n",
    "print(\"Comma separated words in alphabetical order\", )\n",
    "','.join(sorted(lst_words))"
   ]
  },
  {
   "cell_type": "code",
   "execution_count": null,
   "metadata": {},
   "outputs": [],
   "source": []
  },
  {
   "cell_type": "markdown",
   "metadata": {},
   "source": [
    "Question 4: Write a program that accepts a sequence of whitespace separated words as input and prints the words after removing all duplicate words and sorting them alphanumerically.\n",
    "\n",
    "Suppose the following input is supplied to the program:\n",
    "\n",
    "hello world and practice makes perfect and hello world again\n",
    "\n",
    "Then, the output should be:\n",
    "\n",
    "again and hello makes perfect practice world\n"
   ]
  },
  {
   "cell_type": "code",
   "execution_count": 19,
   "metadata": {},
   "outputs": [
    {
     "name": "stdout",
     "output_type": "stream",
     "text": [
      "Enter the whitespaced separated words: hello world and practice makes perfect and hello world again\n",
      "Removed the duplicated words and ordered alphabetically: \n",
      " again and hello makes perfect practice world\n"
     ]
    }
   ],
   "source": [
    "def remove_dup(words):\n",
    "    #convert the string intl list of words\n",
    "    l=words.split()\n",
    "    #initialize the list to store unique values\n",
    "    uni=[]\n",
    "    for word in l:\n",
    "        if word not in uni:\n",
    "            uni.append(word)\n",
    "    #sort the list\n",
    "    uni.sort()\n",
    "    #convert the list of words into whitespace separated words\n",
    "    return (\" \".join(uni))\n",
    "\n",
    "w=input(\"Enter the whitespaced separated words: \")\n",
    "print(\"Removed the duplicated words and ordered alphabetically: \\n\",remove_dup(w))"
   ]
  },
  {
   "cell_type": "code",
   "execution_count": null,
   "metadata": {},
   "outputs": [],
   "source": []
  },
  {
   "cell_type": "markdown",
   "metadata": {},
   "source": [
    "Question 5: Write a program that accepts a sentence and calculate the number of letters and digits.\n",
    "\n",
    "Suppose the following input is supplied to the program: hello world! 123\n",
    "\n",
    "Then, the output should be: \n",
    "    \n",
    "LETTERS 10\n",
    "\n",
    "DIGITS 3"
   ]
  },
  {
   "cell_type": "code",
   "execution_count": 20,
   "metadata": {},
   "outputs": [
    {
     "name": "stdout",
     "output_type": "stream",
     "text": [
      "Enter the string: hello world! 123\n",
      "LETTERS  10\n",
      "DIGITS  3\n"
     ]
    }
   ],
   "source": [
    "def count_wordsAndSymbols(word):\n",
    "    #convert the string into list\n",
    "    l=list(word)\n",
    "    count_letters=0\n",
    "    count_digits=0\n",
    "    for i in l:\n",
    "        if i.isalpha():\n",
    "            count_letters+=1\n",
    "        if i.isdigit():\n",
    "            count_digits+=1\n",
    "    print(\"LETTERS \",count_letters)\n",
    "    print(\"DIGITS \",count_digits)\n",
    "    \n",
    "w=input(\"Enter the string: \")\n",
    "count_wordsAndSymbols(w)"
   ]
  },
  {
   "cell_type": "code",
   "execution_count": null,
   "metadata": {},
   "outputs": [],
   "source": []
  },
  {
   "cell_type": "markdown",
   "metadata": {},
   "source": [
    "Question 6: A website requires the users to input username and password to register. Write a program to check the validity of password input by users.\n",
    "\n",
    "Following are the criteria for checking the password:\n",
    "\n",
    "1. At least 1 letter between [a-z]\n",
    "\n",
    "2. At least 1 number between [0-9]\n",
    "\n",
    "1. At least 1 letter between [A-Z]\n",
    "\n",
    "3. At least 1 character from [$#@]\n",
    "\n",
    "4. Minimum length of transaction password: 6\n",
    "\n",
    "5. Maximum length of transaction password: 12\n",
    "\n",
    "Your program should accept a sequence of comma separated passwords and will check them according to the above criteria. Passwords that match the criteria are to be printed, each separated by a comma.\n",
    "\n",
    "\n",
    "Example  If the following passwords are given as input to the program: ABd1234@1,a F1#,2w3E*,2We3345\n",
    "\n",
    "\n",
    "Then, the output of the program should be: ABd1234@1"
   ]
  },
  {
   "cell_type": "code",
   "execution_count": 29,
   "metadata": {},
   "outputs": [
    {
     "name": "stdout",
     "output_type": "stream",
     "text": [
      "Enter the comma separated passwords: ABd1234@1,a F1#,2w3E*,2We3345\n",
      "Valid passwords are: \n",
      "ABd1234@1\n"
     ]
    }
   ],
   "source": [
    "import re\n",
    "\n",
    "def validate_password(string):\n",
    "    val_passwds=[]\n",
    "    ip_passwds=string.split(\",\")\n",
    "    for password in ip_passwds:\n",
    "        #check for min and max length criteria\n",
    "        if len(password) < 6 or len(password)> 12:\n",
    "            continue\n",
    "        #check for atleast 1 character a-z\n",
    "        elif not re.search(\"([a-z])+\",password):\n",
    "            continue\n",
    "        #check for atleast 1 charcter A-Z\n",
    "        elif not re.search(\"([A-Z])+\",password):\n",
    "            continue\n",
    "        #check for number 0-9\n",
    "        elif not re.search(\"([0-9])+\",password):\n",
    "            continue\n",
    "        #check for character\n",
    "        elif not re.search(\"([$#@])+\",password):\n",
    "            continue\n",
    "        else:\n",
    "            val_passwds.append(password)\n",
    "        \n",
    "    if len(val_passwds) > 0:\n",
    "        print(\"Valid passwords are: \")\n",
    "        return \" \".join(val_passwds)\n",
    "    else:\n",
    "        return \"No valid passwords\"\n",
    "    \n",
    "\n",
    "s=input(\"Enter the comma separated passwords: \")\n",
    "print(validate_password(s))"
   ]
  },
  {
   "cell_type": "code",
   "execution_count": null,
   "metadata": {},
   "outputs": [],
   "source": []
  },
  {
   "cell_type": "code",
   "execution_count": null,
   "metadata": {},
   "outputs": [],
   "source": []
  }
 ],
 "metadata": {
  "kernelspec": {
   "display_name": "Python 3",
   "language": "python",
   "name": "python3"
  },
  "language_info": {
   "codemirror_mode": {
    "name": "ipython",
    "version": 3
   },
   "file_extension": ".py",
   "mimetype": "text/x-python",
   "name": "python",
   "nbconvert_exporter": "python",
   "pygments_lexer": "ipython3",
   "version": "3.7.3"
  }
 },
 "nbformat": 4,
 "nbformat_minor": 2
}
