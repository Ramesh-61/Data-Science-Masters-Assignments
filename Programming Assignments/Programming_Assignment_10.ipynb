{
 "cells": [
  {
   "cell_type": "markdown",
   "metadata": {},
   "source": [
    "1.Write a Python program to find sum of elements in list?"
   ]
  },
  {
   "cell_type": "code",
   "execution_count": 3,
   "metadata": {},
   "outputs": [
    {
     "name": "stdout",
     "output_type": "stream",
     "text": [
      "Enter the number of elements into the list: 5\n",
      "14\n",
      "12\n",
      "16\n",
      "20\n",
      "25\n",
      "List created:  [14, 12, 16, 20, 25]\n",
      "Sum of elements in the list is: 87\n"
     ]
    }
   ],
   "source": [
    "def sum_list(lst):\n",
    "    sum=0\n",
    "    for i in lst:\n",
    "        sum+=i\n",
    "    return \"Sum of elements in the list is: {}\".format(sum)\n",
    "\n",
    "def list_creation():\n",
    "    lst=[]\n",
    "    n=int(input(\"Enter the number of elements into the list: \"))\n",
    "    for i in range(n):\n",
    "        lst.append(int(input()))\n",
    "    print(\"List created: \",lst)\n",
    "    return lst\n",
    "\n",
    "l=list_creation()\n",
    "print(sum_list(l))\n",
    "        "
   ]
  },
  {
   "cell_type": "code",
   "execution_count": null,
   "metadata": {},
   "outputs": [],
   "source": []
  },
  {
   "cell_type": "markdown",
   "metadata": {},
   "source": [
    "2.Write a Python program to  Multiply all numbers in the list?"
   ]
  },
  {
   "cell_type": "code",
   "execution_count": 5,
   "metadata": {},
   "outputs": [
    {
     "name": "stdout",
     "output_type": "stream",
     "text": [
      "Enter the number of elements into the list: 4\n",
      "5\n",
      "10\n",
      "16\n",
      "20\n",
      "List created:  [5, 10, 16, 20]\n",
      "Product of elements in the list is: 16000\n"
     ]
    }
   ],
   "source": [
    "def multiply_list(lst):\n",
    "    res=1\n",
    "    for i in lst:\n",
    "        res*=i\n",
    "    return \"Product of elements in the list is: {}\".format(res)\n",
    "\n",
    "def list_creation():\n",
    "    lst=[]\n",
    "    n=int(input(\"Enter the number of elements into the list: \"))\n",
    "    for i in range(n):\n",
    "        lst.append(int(input()))\n",
    "    print(\"List created: \",lst)\n",
    "    return lst\n",
    "\n",
    "l=list_creation()\n",
    "print(multiply_list(l))"
   ]
  },
  {
   "cell_type": "code",
   "execution_count": null,
   "metadata": {},
   "outputs": [],
   "source": []
  },
  {
   "cell_type": "markdown",
   "metadata": {},
   "source": [
    "3.Write a Python program to find smallest number in a list?"
   ]
  },
  {
   "cell_type": "code",
   "execution_count": 8,
   "metadata": {},
   "outputs": [
    {
     "name": "stdout",
     "output_type": "stream",
     "text": [
      "Enter the number of elements into the list: 4\n",
      "100\n",
      "20\n",
      "350\n",
      "2\n",
      "List created:  [100, 20, 350, 2]\n",
      "Smallest elements in the list is: 2\n"
     ]
    }
   ],
   "source": [
    "def find_smallest(lst):\n",
    "    small=lst[0]\n",
    "    for i in range(1,len(lst)):\n",
    "        if lst[i] < small:\n",
    "            small=lst[i]\n",
    "    return \"Smallest elements in the list is: {}\".format(small)\n",
    "\n",
    "def list_creation():\n",
    "    lst=[]\n",
    "    n=int(input(\"Enter the number of elements into the list: \"))\n",
    "    for i in range(n):\n",
    "        lst.append(int(input()))\n",
    "    print(\"List created: \",lst)\n",
    "    return lst\n",
    "\n",
    "l=list_creation()\n",
    "print(find_smallest(l))"
   ]
  },
  {
   "cell_type": "code",
   "execution_count": null,
   "metadata": {},
   "outputs": [],
   "source": []
  },
  {
   "cell_type": "markdown",
   "metadata": {},
   "source": [
    "4.Write a Python program to find largest number in a list?"
   ]
  },
  {
   "cell_type": "code",
   "execution_count": 10,
   "metadata": {},
   "outputs": [
    {
     "name": "stdout",
     "output_type": "stream",
     "text": [
      "Enter the number of elements into the list: 5\n",
      "10\n",
      "25\n",
      "5\n",
      "35\n",
      "32\n",
      "List created:  [10, 25, 5, 35, 32]\n",
      "Largest elements in the list is: 35\n"
     ]
    }
   ],
   "source": [
    "def find_largest(lst):\n",
    "    large=lst[0]\n",
    "    for i in range(1,len(lst)):\n",
    "        if lst[i] > large:\n",
    "            large=lst[i]\n",
    "    return \"Largest elements in the list is: {}\".format(large)\n",
    "\n",
    "def list_creation():\n",
    "    lst=[]\n",
    "    n=int(input(\"Enter the number of elements into the list: \"))\n",
    "    for i in range(n):\n",
    "        lst.append(int(input()))\n",
    "    print(\"List created: \",lst)\n",
    "    return lst\n",
    "\n",
    "l=list_creation()\n",
    "print(find_largest(l))"
   ]
  },
  {
   "cell_type": "code",
   "execution_count": null,
   "metadata": {},
   "outputs": [],
   "source": []
  },
  {
   "cell_type": "markdown",
   "metadata": {},
   "source": [
    "5.Write a Python program to find second largest number in a list?"
   ]
  },
  {
   "cell_type": "code",
   "execution_count": 13,
   "metadata": {},
   "outputs": [
    {
     "name": "stdout",
     "output_type": "stream",
     "text": [
      "Enter the number of elements into the list: 5\n",
      "160\n",
      "320\n",
      "250\n",
      "450\n",
      "400\n",
      "List created:  [160, 320, 250, 450, 400]\n",
      "Second largest elements in the list is: 400\n"
     ]
    }
   ],
   "source": [
    "def second_largest(lst):\n",
    "    large=lst[0]\n",
    "    sec_largest=lst[0]\n",
    "    for i in range(1,len(lst)):\n",
    "        if lst[i] > large:\n",
    "            large=lst[i]\n",
    "            \n",
    "    for i in range(1,len(lst)):\n",
    "        if lst[i]>sec_largest and lst[i] != large:\n",
    "            sec_largest=lst[i]\n",
    "        \n",
    "    return \"Second largest elements in the list is: {}\".format(sec_largest)\n",
    "\n",
    "def list_creation():\n",
    "    lst=[]\n",
    "    n=int(input(\"Enter the number of elements into the list: \"))\n",
    "    for i in range(n):\n",
    "        lst.append(int(input()))\n",
    "    print(\"List created: \",lst)\n",
    "    return lst\n",
    "\n",
    "l=list_creation()\n",
    "print(second_largest(l))"
   ]
  },
  {
   "cell_type": "code",
   "execution_count": null,
   "metadata": {},
   "outputs": [],
   "source": []
  },
  {
   "cell_type": "markdown",
   "metadata": {},
   "source": [
    "6.Write a Python program to find N largest elements from a list?"
   ]
  },
  {
   "cell_type": "code",
   "execution_count": 15,
   "metadata": {},
   "outputs": [
    {
     "name": "stdout",
     "output_type": "stream",
     "text": [
      "Enter the number of elements into the list: 6\n",
      "159\n",
      "357\n",
      "456\n",
      "12\n",
      "369\n",
      "789\n",
      "List created:  [159, 357, 456, 12, 369, 789]\n",
      "Enter the N largest elements: 2\n",
      "The 2 largest elements in the list are [789, 456]\n"
     ]
    }
   ],
   "source": [
    "def nLargest(n,lst):\n",
    "    final_lst=[]\n",
    "    for i in range(n):\n",
    "        large=lst[0]\n",
    "        for j in range(1,len(lst)):\n",
    "            if lst[j] > large:\n",
    "                large=lst[j]\n",
    "                \n",
    "         #remove the largest element from the list and start finding next largest element\n",
    "        lst.remove(large)\n",
    "        final_lst.append(large)\n",
    "        \n",
    "    return \"The {} largest elements in the list are {}\".format(n, final_lst)\n",
    "\n",
    "def list_creation():\n",
    "    lst=[]\n",
    "    n=int(input(\"Enter the number of elements into the list: \"))\n",
    "    for i in range(n):\n",
    "        lst.append(int(input()))\n",
    "    print(\"List created: \",lst)\n",
    "    num=int(input(\"Enter the N largest elements: \"))\n",
    "    return num,lst\n",
    "\n",
    "nl,l=list_creation()\n",
    "print(nLargest(nl,l))"
   ]
  },
  {
   "cell_type": "code",
   "execution_count": null,
   "metadata": {},
   "outputs": [],
   "source": []
  },
  {
   "cell_type": "markdown",
   "metadata": {},
   "source": [
    "7.Write a Python program to print even numbers in a list?"
   ]
  },
  {
   "cell_type": "code",
   "execution_count": 16,
   "metadata": {},
   "outputs": [
    {
     "name": "stdout",
     "output_type": "stream",
     "text": [
      "Enter the number of elements into the list: 5\n",
      "15\n",
      "14\n",
      "18\n",
      "19\n",
      "56\n",
      "List created:  [15, 14, 18, 19, 56]\n",
      "Even numbers in the list is: [14, 18, 56]\n"
     ]
    }
   ],
   "source": [
    "def even_list(lst):\n",
    "    even=[]\n",
    "    for i in lst:\n",
    "        if i%2 == 0:\n",
    "            even.append(i)\n",
    "    return \"Even numbers in the list is: {}\".format(even)\n",
    "\n",
    "def list_creation():\n",
    "    lst=[]\n",
    "    n=int(input(\"Enter the number of elements into the list: \"))\n",
    "    for i in range(n):\n",
    "        lst.append(int(input()))\n",
    "    print(\"List created: \",lst)\n",
    "    return lst\n",
    "\n",
    "l=list_creation()\n",
    "print(even_list(l))"
   ]
  },
  {
   "cell_type": "code",
   "execution_count": null,
   "metadata": {},
   "outputs": [],
   "source": []
  },
  {
   "cell_type": "markdown",
   "metadata": {},
   "source": [
    "8.Write a Python program to print odd numbers in a List?"
   ]
  },
  {
   "cell_type": "code",
   "execution_count": 18,
   "metadata": {},
   "outputs": [
    {
     "name": "stdout",
     "output_type": "stream",
     "text": [
      "Enter the number of elements into the list: 6\n",
      "16\n",
      "15\n",
      "23\n",
      "28\n",
      "36\n",
      "50\n",
      "List created:  [16, 15, 23, 28, 36, 50]\n",
      "Odd numbers in the list is: [15, 23]\n"
     ]
    }
   ],
   "source": [
    "def odd_list(lst):\n",
    "    odd=[]\n",
    "    for i in lst:\n",
    "        if i%2 != 0:\n",
    "            odd.append(i)\n",
    "    return \"Odd numbers in the list is: {}\".format(odd)\n",
    "\n",
    "def list_creation():\n",
    "    lst=[]\n",
    "    n=int(input(\"Enter the number of elements into the list: \"))\n",
    "    for i in range(n):\n",
    "        lst.append(int(input()))\n",
    "    print(\"List created: \",lst)\n",
    "    return lst\n",
    "\n",
    "l=list_creation()\n",
    "print(odd_list(l))"
   ]
  },
  {
   "cell_type": "code",
   "execution_count": null,
   "metadata": {},
   "outputs": [],
   "source": []
  },
  {
   "cell_type": "markdown",
   "metadata": {},
   "source": [
    "9.Write a Python program to Remove empty List from List?"
   ]
  },
  {
   "cell_type": "code",
   "execution_count": 22,
   "metadata": {},
   "outputs": [
    {
     "name": "stdout",
     "output_type": "stream",
     "text": [
      "Original list:  [1, 10, 15, [], 19, [], 20, 25, [], 30]\n",
      "List after removing the empty list: [1, 10, 15, 19, 20, 25, 30]\n"
     ]
    }
   ],
   "source": [
    "#initializing the list\n",
    "l1 = [1,10,15,[],19,[],20,25,[],30]\n",
    "print(\"Original list: \",l1)\n",
    "#removing the empty list from list\n",
    "for i in l1:\n",
    "    if type(i) == list:\n",
    "        if len(i) == 0:\n",
    "            l1.remove(i)\n",
    "print(\"List after removing the empty list:\",l1)\n",
    "        "
   ]
  },
  {
   "cell_type": "code",
   "execution_count": null,
   "metadata": {},
   "outputs": [],
   "source": []
  },
  {
   "cell_type": "markdown",
   "metadata": {},
   "source": [
    "10.Write a Python program to Cloning or Copying a list?"
   ]
  },
  {
   "cell_type": "code",
   "execution_count": 23,
   "metadata": {},
   "outputs": [
    {
     "name": "stdout",
     "output_type": "stream",
     "text": [
      "Enter the number of elements into the list: 5\n",
      "10\n",
      "26\n",
      "35\n",
      "49\n",
      "56\n",
      "List created:  [10, 26, 35, 49, 56]\n",
      "Copied list is [10, 26, 35, 49, 56]\n"
     ]
    }
   ],
   "source": [
    "def clone_list(l):\n",
    "    lst=[i for i in l]\n",
    "    return \"Copied list is {}\".format(lst)\n",
    "\n",
    "def list_creation():\n",
    "    lst=[]\n",
    "    n=int(input(\"Enter the number of elements into the list: \"))\n",
    "    for i in range(n):\n",
    "        lst.append(int(input()))\n",
    "    print(\"List created: \",lst)\n",
    "    return lst\n",
    "\n",
    "l=list_creation()\n",
    "print(clone_list(l))"
   ]
  },
  {
   "cell_type": "code",
   "execution_count": null,
   "metadata": {},
   "outputs": [],
   "source": []
  },
  {
   "cell_type": "markdown",
   "metadata": {},
   "source": [
    "11.Write a Python program to Count occurrences of an element in a list?"
   ]
  },
  {
   "cell_type": "code",
   "execution_count": 26,
   "metadata": {},
   "outputs": [
    {
     "name": "stdout",
     "output_type": "stream",
     "text": [
      "Enter the number of elements into the list: 6\n",
      "10\n",
      "2\n",
      "3\n",
      "2\n",
      "6\n",
      "5\n",
      "List created:  [10, 2, 3, 2, 6, 5]\n",
      "enter the element to count the occurrences in the list2\n",
      "2 has occurred 2 times in the list [10, 2, 3, 2, 6, 5]\n"
     ]
    }
   ],
   "source": [
    "def count_Element(lst, ele):\n",
    "    count=0\n",
    "    for i in lst:\n",
    "        if i == ele:\n",
    "            count+=1\n",
    "    return \"{} has occurred {} times in the list {}\".format(ele,count,lst)\n",
    "\n",
    "def list_creation():\n",
    "    lst=[]\n",
    "    n=int(input(\"Enter the number of elements into the list: \"))\n",
    "    for i in range(n):\n",
    "        lst.append(int(input()))\n",
    "    print(\"List created: \",lst)\n",
    "    element=int(input(\"enter the element to count the occurrences in the list\"))\n",
    "    return element,lst\n",
    "\n",
    "e,l=list_creation()\n",
    "print(count_Element(l,e))\n"
   ]
  },
  {
   "cell_type": "code",
   "execution_count": null,
   "metadata": {},
   "outputs": [],
   "source": []
  },
  {
   "cell_type": "code",
   "execution_count": null,
   "metadata": {},
   "outputs": [],
   "source": []
  }
 ],
 "metadata": {
  "kernelspec": {
   "display_name": "Python 3",
   "language": "python",
   "name": "python3"
  },
  "language_info": {
   "codemirror_mode": {
    "name": "ipython",
    "version": 3
   },
   "file_extension": ".py",
   "mimetype": "text/x-python",
   "name": "python",
   "nbconvert_exporter": "python",
   "pygments_lexer": "ipython3",
   "version": "3.7.3"
  }
 },
 "nbformat": 4,
 "nbformat_minor": 2
}
