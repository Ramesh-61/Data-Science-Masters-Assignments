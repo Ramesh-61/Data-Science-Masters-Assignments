{
 "cells": [
  {
   "cell_type": "markdown",
   "metadata": {},
   "source": [
    "1.Write a Python Program to Find LCM?"
   ]
  },
  {
   "cell_type": "code",
   "execution_count": 1,
   "metadata": {},
   "outputs": [
    {
     "name": "stdout",
     "output_type": "stream",
     "text": [
      "Enter a number: 6\n",
      "Enter another number: 12\n",
      "LCM of 6 and 12 is 12\n"
     ]
    }
   ],
   "source": [
    "num1=int(input(\"Enter a number: \"))\n",
    "num2=int(input(\"Enter another number: \"))\n",
    "\n",
    "if num1>num2:\n",
    "    greater=num1\n",
    "else:\n",
    "    greater=num2\n",
    "\n",
    "while(True):\n",
    "    if (greater%num1 == 0) and (greater%num2 == 0):\n",
    "        lcm=greater\n",
    "        break\n",
    "    greater+=1\n",
    "\n",
    "print(f'LCM of {num1} and {num2} is {lcm}')"
   ]
  },
  {
   "cell_type": "code",
   "execution_count": null,
   "metadata": {},
   "outputs": [],
   "source": []
  },
  {
   "cell_type": "markdown",
   "metadata": {},
   "source": [
    "2.Write a Python Program to Find HCF?"
   ]
  },
  {
   "cell_type": "code",
   "execution_count": 4,
   "metadata": {},
   "outputs": [
    {
     "name": "stdout",
     "output_type": "stream",
     "text": [
      "Enter a number: 54\n",
      "Enter another number: 24\n",
      "LCM of 54 and 24 is 6\n"
     ]
    }
   ],
   "source": [
    "num1=int(input(\"Enter a number: \"))\n",
    "num2=int(input(\"Enter another number: \"))\n",
    "\n",
    "if num1< num2:\n",
    "    lowest=num1\n",
    "else:\n",
    "    lowest=num2\n",
    "\n",
    "for i in range(1,lowest+1):\n",
    "        if (num1%i == 0) and (num2%i == 0):\n",
    "            hcf=i\n",
    "        \n",
    "\n",
    "print(f'LCM of {num1} and {num2} is {hcf}')"
   ]
  },
  {
   "cell_type": "code",
   "execution_count": null,
   "metadata": {},
   "outputs": [],
   "source": []
  },
  {
   "cell_type": "markdown",
   "metadata": {},
   "source": [
    "3.Write a Python Program to Convert Decimal to Binary, Octal and Hexadecimal?"
   ]
  },
  {
   "cell_type": "code",
   "execution_count": 5,
   "metadata": {},
   "outputs": [
    {
     "name": "stdout",
     "output_type": "stream",
     "text": [
      "Enter the decimal number: 120\n",
      "Binary value of decimal 120 is  0b1111000\n",
      "Octal value of decimal 120 is  0o170\n",
      "Hexadecimal value of decimal 120 is  0x78\n"
     ]
    }
   ],
   "source": [
    "decimal=int(input(\"Enter the decimal number: \"))\n",
    "print(f\"Binary value of decimal {decimal} is \",bin(decimal))\n",
    "print(f\"Octal value of decimal {decimal} is \",oct(decimal))\n",
    "print(f\"Hexadecimal value of decimal {decimal} is \",hex(decimal))"
   ]
  },
  {
   "cell_type": "code",
   "execution_count": null,
   "metadata": {},
   "outputs": [],
   "source": []
  },
  {
   "cell_type": "markdown",
   "metadata": {},
   "source": [
    "4.Write a Python Program To Find ASCII value of a character?"
   ]
  },
  {
   "cell_type": "code",
   "execution_count": 6,
   "metadata": {},
   "outputs": [
    {
     "name": "stdout",
     "output_type": "stream",
     "text": [
      "Enter the character: R\n",
      "ASCII value of R is  82\n"
     ]
    }
   ],
   "source": [
    "c=input(\"Enter the character: \")\n",
    "print(f'ASCII value of {c} is ',ord(c))"
   ]
  },
  {
   "cell_type": "code",
   "execution_count": null,
   "metadata": {},
   "outputs": [],
   "source": []
  },
  {
   "cell_type": "markdown",
   "metadata": {},
   "source": [
    "5.Write a Python Program to Make a Simple Calculator with 4 basic mathematical operations?"
   ]
  },
  {
   "cell_type": "code",
   "execution_count": 8,
   "metadata": {},
   "outputs": [
    {
     "name": "stdout",
     "output_type": "stream",
     "text": [
      "Please select operation -\n",
      "1. Add\n",
      "2. Subtract\n",
      "3. Multiply\n",
      "4. Divide\n",
      "\n",
      "Select operations form 1, 2, 3, 4 :2\n",
      "Enter first number: 10\n",
      "Enter second number: 6\n",
      "10 - 6 = 4\n"
     ]
    }
   ],
   "source": [
    "def add(num1,num2):\n",
    "    return num1+num2\n",
    "\n",
    "def subtract(num1,num2):\n",
    "    return num1-num2\n",
    "\n",
    "def multiply(num1,num2):\n",
    "    return num1*num2\n",
    "\n",
    "def divide(num1,num2):\n",
    "    return num1/num2\n",
    "\n",
    "print(\"Please select operation -\\n\" \\\n",
    "        \"1. Add\\n\" \\\n",
    "        \"2. Subtract\\n\" \\\n",
    "        \"3. Multiply\\n\" \\\n",
    "        \"4. Divide\\n\")\n",
    "  \n",
    "  \n",
    "#Take input from the user\n",
    "select = int(input(\"Select operations form 1, 2, 3, 4 :\"))\n",
    "  \n",
    "num1=int(input(\"Enter first number: \"))\n",
    "num2=int(input(\"Enter second number: \"))\n",
    "\n",
    "if select == 1:\n",
    "    print(num1,'+',num2,'=',add(num1,num2))\n",
    "elif select == 2:\n",
    "    print(num1,'-',num2,'=',subtract(num1,num2))\n",
    "elif select == 3:\n",
    "    print(num1,'*',num2,'=',multiply(num1,num2))\n",
    "elif select == 4:\n",
    "    print(num1,'/',num2,'=',divide(num1,num2))\n",
    "else:\n",
    "    print(\"Invalid input\")"
   ]
  },
  {
   "cell_type": "code",
   "execution_count": null,
   "metadata": {},
   "outputs": [],
   "source": []
  }
 ],
 "metadata": {
  "kernelspec": {
   "display_name": "Python 3",
   "language": "python",
   "name": "python3"
  },
  "language_info": {
   "codemirror_mode": {
    "name": "ipython",
    "version": 3
   },
   "file_extension": ".py",
   "mimetype": "text/x-python",
   "name": "python",
   "nbconvert_exporter": "python",
   "pygments_lexer": "ipython3",
   "version": "3.7.3"
  }
 },
 "nbformat": 4,
 "nbformat_minor": 2
}
