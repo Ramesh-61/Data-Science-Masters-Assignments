{
 "cells": [
  {
   "cell_type": "markdown",
   "metadata": {},
   "source": [
    "Question 1: \n",
    "\n",
    "Please write a program using generator to print the numbers which can be divisible by 5 and 7 between 0 and n in comma separated form while n is input by console.\n",
    "\n",
    "Example: If the following n is given as input to the program: 100\n",
    "        \n",
    "Then, the output of the program should be: 0,35,70\n"
   ]
  },
  {
   "cell_type": "code",
   "execution_count": 3,
   "metadata": {},
   "outputs": [
    {
     "name": "stdout",
     "output_type": "stream",
     "text": [
      "Enter the value of n: 100\n",
      "0,35,70,"
     ]
    }
   ],
   "source": [
    "def generator5and7(n):\n",
    "    for i in range(n+1):\n",
    "        if (i%5 == 0) and (i%7==0):\n",
    "            yield i\n",
    "\n",
    "num=int(input(\"Enter the value of n: \"))\n",
    "\n",
    "for i in generator5and7(num):\n",
    "    print(i,end=\",\")"
   ]
  },
  {
   "cell_type": "code",
   "execution_count": null,
   "metadata": {},
   "outputs": [],
   "source": []
  },
  {
   "cell_type": "markdown",
   "metadata": {},
   "source": [
    "Question 2:\n",
    "    \n",
    "Please write a program using generator to print the even numbers between 0 and n in comma separated form while n is input by console.\n",
    "\n",
    "Example: If the following n is given as input to the program: 10\n",
    "        \n",
    "Then, the output of the program should be: 0,2,4,6,8,10\n"
   ]
  },
  {
   "cell_type": "code",
   "execution_count": 4,
   "metadata": {},
   "outputs": [
    {
     "name": "stdout",
     "output_type": "stream",
     "text": [
      "Enter the value of n: 10\n",
      "Displaying the even numbers between 0 and  10\n",
      "0,2,4,6,8,10,"
     ]
    }
   ],
   "source": [
    "def generator_even(n):\n",
    "    for i in range(n+1):\n",
    "        if i%2==0:\n",
    "            yield i\n",
    "            \n",
    "num=int(input(\"Enter the value of n: \"))\n",
    "print(\"Displaying the even numbers between 0 and \",num)\n",
    "for i in generator_even(num):\n",
    "    print(i, end=\",\")"
   ]
  },
  {
   "cell_type": "code",
   "execution_count": null,
   "metadata": {},
   "outputs": [],
   "source": []
  },
  {
   "cell_type": "markdown",
   "metadata": {},
   "source": [
    "Question 3: \n",
    "\n",
    "The Fibonacci Sequence is computed based on the following formula:\n",
    "    \n",
    "f(n)=0 if n=0\n",
    "\n",
    "f(n)=1 if n=1\n",
    "\n",
    "f(n)=f(n-1)+f(n-2) if n>1\n",
    "\n",
    "Please write a program using list comprehension to print the Fibonacci Sequence in comma separated form with a given n input by console.\n",
    "\n",
    "Example: If the following n is given as input to the program: 7\n",
    "\n",
    "Then, the output of the program should be: 0,1,1,2,3,5,8,13\n"
   ]
  },
  {
   "cell_type": "code",
   "execution_count": 7,
   "metadata": {},
   "outputs": [
    {
     "name": "stdout",
     "output_type": "stream",
     "text": [
      "Enter the value of n: 7\n",
      "0,1,1,2,3,5,8,13\n"
     ]
    }
   ],
   "source": [
    "def fib_sequence(n):\n",
    "    if n==0:\n",
    "        return 0\n",
    "    elif n==1:\n",
    "        return 1\n",
    "    else:\n",
    "        return fib_sequence(n-1)+fib_sequence(n-2)\n",
    "\n",
    "num=int(input(\"Enter the value of n: \"))\n",
    "fib_list=[str(fib_sequence(i)) for i in range(num+1)]\n",
    "print(\",\".join(fib_list))"
   ]
  },
  {
   "cell_type": "code",
   "execution_count": null,
   "metadata": {},
   "outputs": [],
   "source": []
  },
  {
   "cell_type": "markdown",
   "metadata": {},
   "source": [
    "Question 4:\n",
    "    \n",
    "Assuming that we have some email addresses in the \"username@companyname.com\" format, please write program to print the user name of a given email address. Both user names and company names are composed of letters only.\n",
    "\n",
    "Example: If the following email address is given as input to the program: john@google.com\n",
    "        \n",
    "Then, the output of the program should be: john"
   ]
  },
  {
   "cell_type": "code",
   "execution_count": 8,
   "metadata": {},
   "outputs": [
    {
     "name": "stdout",
     "output_type": "stream",
     "text": [
      "Enter the email address: ramesh@mphasis.com\n",
      "The username is  ramesh\n"
     ]
    }
   ],
   "source": [
    "def get_username(string):\n",
    "    return string.split(\"@\")[0]\n",
    "\n",
    "s=input(\"Enter the email address: \")\n",
    "print(\"The username is \",get_username(s))"
   ]
  },
  {
   "cell_type": "code",
   "execution_count": null,
   "metadata": {},
   "outputs": [],
   "source": []
  },
  {
   "cell_type": "markdown",
   "metadata": {},
   "source": [
    "Question 5:\n",
    "\n",
    "Define a class named Shape and its subclass Square. The Square class has an init function which takes a length as argument. Both classes have a area function which can print the area of the shape where Shape's area is 0 by default.\n"
   ]
  },
  {
   "cell_type": "code",
   "execution_count": 9,
   "metadata": {},
   "outputs": [
    {
     "name": "stdout",
     "output_type": "stream",
     "text": [
      "Area of shape class is  0\n",
      "Area of square is  25\n"
     ]
    }
   ],
   "source": [
    "class Shape(object):\n",
    "    def area(self):\n",
    "        print(\"Area of shape class is \",0)\n",
    "\n",
    "class Square(Shape):\n",
    "    def __init__(self,length):\n",
    "        self.length=length\n",
    "    def area(self):\n",
    "        print(\"Area of square is \",self.length*self.length)\n",
    "\n",
    "#creating objects\n",
    "shape_obj=Shape()\n",
    "shape_obj.area()\n",
    "square_obj=Square(5)\n",
    "square_obj.area()"
   ]
  },
  {
   "cell_type": "code",
   "execution_count": null,
   "metadata": {},
   "outputs": [],
   "source": []
  },
  {
   "cell_type": "code",
   "execution_count": null,
   "metadata": {},
   "outputs": [],
   "source": []
  }
 ],
 "metadata": {
  "kernelspec": {
   "display_name": "Python 3",
   "language": "python",
   "name": "python3"
  },
  "language_info": {
   "codemirror_mode": {
    "name": "ipython",
    "version": 3
   },
   "file_extension": ".py",
   "mimetype": "text/x-python",
   "name": "python",
   "nbconvert_exporter": "python",
   "pygments_lexer": "ipython3",
   "version": "3.7.3"
  }
 },
 "nbformat": 4,
 "nbformat_minor": 2
}
