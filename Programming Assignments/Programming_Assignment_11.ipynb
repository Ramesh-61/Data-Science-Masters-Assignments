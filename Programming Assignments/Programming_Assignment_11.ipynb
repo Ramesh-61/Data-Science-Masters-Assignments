{
 "cells": [
  {
   "cell_type": "markdown",
   "metadata": {},
   "source": [
    "1.Write a Python program to find words which are greater than given length k?"
   ]
  },
  {
   "cell_type": "code",
   "execution_count": 4,
   "metadata": {},
   "outputs": [
    {
     "name": "stdout",
     "output_type": "stream",
     "text": [
      "Enter the string: Hello Ramesh!, Welcome to python programming, enjoy coding\n",
      "Enter the length: 6\n",
      "Words with the length greater than  6 is ['Ramesh!,', 'Welcome', 'programming,']\n"
     ]
    }
   ],
   "source": [
    "def words_greater_than_k(st,k):\n",
    "    l=[]\n",
    "    w=[]\n",
    "    #split the string into list of words\n",
    "    l=st.split()\n",
    "    for word in l:\n",
    "        if len(word) > k:\n",
    "            w.append(word)\n",
    "    return \"Words with the length greater than  {} is {}\".format(k,w)\n",
    "\n",
    "sen=input(\"Enter the string: \")\n",
    "l=int(input(\"Enter the length: \"))\n",
    "print(words_greater_than_k(sen,l))"
   ]
  },
  {
   "cell_type": "code",
   "execution_count": null,
   "metadata": {},
   "outputs": [],
   "source": []
  },
  {
   "cell_type": "markdown",
   "metadata": {},
   "source": [
    "2.Write a Python program for removing i-th character from a string?"
   ]
  },
  {
   "cell_type": "code",
   "execution_count": 3,
   "metadata": {},
   "outputs": [
    {
     "name": "stdout",
     "output_type": "stream",
     "text": [
      "Enter the string: VanderDussen\n",
      "Enter the index: 5\n",
      "String after removing the character at the index  5 is VandeDussen\n"
     ]
    }
   ],
   "source": [
    "def remove_ith_char(string,index):\n",
    "    #store the characters before the index\n",
    "    a=string[:index]\n",
    "    #store the characters after the index\n",
    "    b=string[index+1:]\n",
    "    return a+b\n",
    "\n",
    "\n",
    "sen=input(\"Enter the string: \")\n",
    "l=int(input(\"Enter the index: \"))\n",
    "print(\"String after removing the character at the index \",l,\"is\",remove_ith_char(sen,l))"
   ]
  },
  {
   "cell_type": "code",
   "execution_count": null,
   "metadata": {},
   "outputs": [],
   "source": []
  },
  {
   "cell_type": "markdown",
   "metadata": {},
   "source": [
    "3.Write a Python program to split and join a string?"
   ]
  },
  {
   "cell_type": "code",
   "execution_count": 9,
   "metadata": {},
   "outputs": [
    {
     "name": "stdout",
     "output_type": "stream",
     "text": [
      "String before split:  Python for Data science\n",
      "String after split: ['Python', 'for', 'Data', 'science']\n",
      "String after joining with the delimiter - is:  Python-for-Data-science\n"
     ]
    }
   ],
   "source": [
    "def split_string(string,delimiter):\n",
    "    return string.split(delimiter)\n",
    "\n",
    "def join_string(lst,delimiter):\n",
    "    return delimiter.join(lst)\n",
    "\n",
    "\n",
    "s=\"Python for Data science\"\n",
    "print(\"String before split: \",s)\n",
    "l= split_string(s,' ')\n",
    "print(\"String after split:\",l)\n",
    "print(\"String after joining with the delimiter - is: \",join_string(l,'-'))"
   ]
  },
  {
   "cell_type": "code",
   "execution_count": null,
   "metadata": {},
   "outputs": [],
   "source": []
  },
  {
   "cell_type": "markdown",
   "metadata": {},
   "source": [
    "4.Write a Python to check if a given string is binary string or not?"
   ]
  },
  {
   "cell_type": "code",
   "execution_count": 13,
   "metadata": {},
   "outputs": [
    {
     "name": "stdout",
     "output_type": "stream",
     "text": [
      "Enter the string: 1001\n",
      "String is Binary\n"
     ]
    }
   ],
   "source": [
    "def bin_string(string):\n",
    "    t={'0','1'}\n",
    "    s=set(string)\n",
    "    if s == t or s == {'0'} or s == {'1'}:\n",
    "        return \"String is Binary\"\n",
    "    else:\n",
    "        return \"String is not binary\"\n",
    "    \n",
    "text=input(\"Enter the string: \")\n",
    "print(bin_string(text))\n",
    "    "
   ]
  },
  {
   "cell_type": "code",
   "execution_count": 14,
   "metadata": {},
   "outputs": [
    {
     "data": {
      "text/plain": [
       "'String is not binary'"
      ]
     },
     "execution_count": 14,
     "metadata": {},
     "output_type": "execute_result"
    }
   ],
   "source": [
    "bin_string(\"Ram\")"
   ]
  },
  {
   "cell_type": "code",
   "execution_count": null,
   "metadata": {},
   "outputs": [],
   "source": []
  },
  {
   "cell_type": "markdown",
   "metadata": {},
   "source": [
    "5.Write a Python program to find uncommon words from two Strings?"
   ]
  },
  {
   "cell_type": "code",
   "execution_count": 16,
   "metadata": {},
   "outputs": [
    {
     "name": "stdout",
     "output_type": "stream",
     "text": [
      "Enter first string: Welcome to iNeuron python for data science training\n",
      "Enter second string: Welcome to iNeuron Machine learning masters training\n",
      "Uncommnon words are:  ['python', 'for', 'data', 'science', 'Machine', 'learning', 'masters']\n"
     ]
    }
   ],
   "source": [
    "def uncommon(str1,str2):\n",
    "    l1=str1.split()\n",
    "    l2=str2.split()\n",
    "    un=[]\n",
    "    for word in l1:\n",
    "        if word not in l2:\n",
    "            un.append(word)\n",
    "    \n",
    "    for word in l2:\n",
    "        if word not in l1:\n",
    "            un.append(word)\n",
    "    \n",
    "    return un\n",
    "\n",
    "s1=input(\"Enter first string: \")\n",
    "s2=input(\"Enter second string: \")\n",
    "print(\"Uncommnon words are: \",uncommon(s1,s2))"
   ]
  },
  {
   "cell_type": "code",
   "execution_count": null,
   "metadata": {},
   "outputs": [],
   "source": []
  },
  {
   "cell_type": "markdown",
   "metadata": {},
   "source": [
    "6.Write a Python to find all duplicate characters in string?"
   ]
  },
  {
   "cell_type": "code",
   "execution_count": 18,
   "metadata": {
    "scrolled": true
   },
   "outputs": [
    {
     "name": "stdout",
     "output_type": "stream",
     "text": [
      "Enter the string: AB devilliers\n",
      "duplicate characters in the string AB devilliers is ['e', 'i', 'l', 'l', 'i', 'e']\n"
     ]
    }
   ],
   "source": [
    "def dup_chars(string):\n",
    "    duplicates = []\n",
    "    for char in string:\n",
    "        if string.count(char)>1:\n",
    "            duplicates.append(char)\n",
    "    return \"duplicate characters in the string {} is {}\".format(string,duplicates)\n",
    "\n",
    "s=input(\"Enter the string: \")\n",
    "print(dup_chars(s))"
   ]
  },
  {
   "cell_type": "code",
   "execution_count": null,
   "metadata": {},
   "outputs": [],
   "source": []
  },
  {
   "cell_type": "markdown",
   "metadata": {},
   "source": [
    "7.Write a Python Program to check if a string contains any special character?"
   ]
  },
  {
   "cell_type": "code",
   "execution_count": 21,
   "metadata": {},
   "outputs": [
    {
     "name": "stdout",
     "output_type": "stream",
     "text": [
      "Enter the string: Ramesh\n",
      "String does not contain any special character.\n"
     ]
    }
   ],
   "source": [
    "import re\n",
    "\n",
    "def special_char(string):\n",
    "    regex = re.compile('[@_!#$%^&*()<>?/\\|}{~:]')\n",
    "    if(regex.search(string) == None):\n",
    "        return \"String does not contain any special character.\"\n",
    "    else:\n",
    "        return \"String contains special characters.\"\n",
    "\n",
    "s=input(\"Enter the string: \")\n",
    "print(special_char(s))"
   ]
  },
  {
   "cell_type": "code",
   "execution_count": 22,
   "metadata": {},
   "outputs": [
    {
     "data": {
      "text/plain": [
       "'String contains special characters.'"
      ]
     },
     "execution_count": 22,
     "metadata": {},
     "output_type": "execute_result"
    }
   ],
   "source": [
    "special_char(\"rmshr@3109\")"
   ]
  },
  {
   "cell_type": "code",
   "execution_count": null,
   "metadata": {},
   "outputs": [],
   "source": []
  }
 ],
 "metadata": {
  "kernelspec": {
   "display_name": "Python 3",
   "language": "python",
   "name": "python3"
  },
  "language_info": {
   "codemirror_mode": {
    "name": "ipython",
    "version": 3
   },
   "file_extension": ".py",
   "mimetype": "text/x-python",
   "name": "python",
   "nbconvert_exporter": "python",
   "pygments_lexer": "ipython3",
   "version": "3.7.3"
  }
 },
 "nbformat": 4,
 "nbformat_minor": 2
}
