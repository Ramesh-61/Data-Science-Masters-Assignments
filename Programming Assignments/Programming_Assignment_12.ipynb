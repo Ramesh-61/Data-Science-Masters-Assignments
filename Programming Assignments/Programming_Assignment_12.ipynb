{
 "cells": [
  {
   "cell_type": "markdown",
   "metadata": {},
   "source": [
    "1.Write a Python program to Extract Unique values dictionary values?"
   ]
  },
  {
   "cell_type": "code",
   "execution_count": 2,
   "metadata": {},
   "outputs": [
    {
     "name": "stdout",
     "output_type": "stream",
     "text": [
      "The dictionary is:  {'a': [1, 2, 1, 10], 'b': [10, 30, 45, 60], 'c': [12, 30, 50, 61], 'd': [14, 28, 45, 61]}\n",
      "The unique values are:  [1, 2, 10, 12, 14, 28, 30, 45, 50, 60, 61]\n"
     ]
    }
   ],
   "source": [
    "#initializing the dictionary\n",
    "d1={\n",
    "    'a':[1,2,1,10],\n",
    "    'b':[10,30,45,60],\n",
    "    'c':[12,30,50,61],\n",
    "    'd':[14,28,45,61]\n",
    "}\n",
    "\n",
    "print(\"The dictionary is: \",d1)\n",
    "#extract unique values\n",
    "uniq=list(sorted({val for element in d1.values() for val in element}))\n",
    "print(\"The unique values are: \",uniq)"
   ]
  },
  {
   "cell_type": "code",
   "execution_count": null,
   "metadata": {},
   "outputs": [],
   "source": []
  },
  {
   "cell_type": "markdown",
   "metadata": {},
   "source": [
    "2.Write a Python program to find the sum of all items in a dictionary?"
   ]
  },
  {
   "cell_type": "code",
   "execution_count": 10,
   "metadata": {},
   "outputs": [
    {
     "name": "stdout",
     "output_type": "stream",
     "text": [
      "Sum of all items in a dictionary is 460\n"
     ]
    }
   ],
   "source": [
    "def dic_sum(dic):\n",
    "    res=0\n",
    "    for val in dic.values():\n",
    "        if type(val) == int:\n",
    "            res+=dic[val]\n",
    "        elif type(val) == list:\n",
    "            for i in val:\n",
    "                res+=i\n",
    "        elif type(val) == dict:\n",
    "            for j in dict.values:\n",
    "                res+=j\n",
    "    return \"Sum of all items in a dictionary is {}\".format(res)\n",
    "\n",
    "\n",
    " #initializing the dictionary\n",
    "d1={\n",
    "    'a':[1,2,1,10],\n",
    "    'b':[10,30,45,60],\n",
    "    'c':[12,30,50,61],\n",
    "    'd':[14,28,45,61]\n",
    "}   \n",
    "print(dic_sum(d1))"
   ]
  },
  {
   "cell_type": "code",
   "execution_count": null,
   "metadata": {},
   "outputs": [],
   "source": []
  },
  {
   "cell_type": "markdown",
   "metadata": {},
   "source": [
    "3.Write a Python program to Merging two Dictionaries?"
   ]
  },
  {
   "cell_type": "code",
   "execution_count": 12,
   "metadata": {},
   "outputs": [
    {
     "name": "stdout",
     "output_type": "stream",
     "text": [
      "{'a': 100, 'b': 200, 'c': 250, 'd': 300, 'e': 350, 'f': 400}\n"
     ]
    }
   ],
   "source": [
    "#dictionary creation\n",
    "\n",
    "d1={\n",
    "    'a':100,'b':200,'c':250\n",
    "}\n",
    "\n",
    "d2={\n",
    "    'd':300,'e':350,'f':400\n",
    "}\n",
    "\n",
    "#unpacking and merging\n",
    "d3={**d1, **d2}\n",
    "print(d3)"
   ]
  },
  {
   "cell_type": "code",
   "execution_count": null,
   "metadata": {},
   "outputs": [],
   "source": []
  },
  {
   "cell_type": "markdown",
   "metadata": {},
   "source": [
    "4.Write a Python program to convert key-values list to flat dictionary?"
   ]
  },
  {
   "cell_type": "code",
   "execution_count": 15,
   "metadata": {},
   "outputs": [
    {
     "name": "stdout",
     "output_type": "stream",
     "text": [
      "The original dictionary is : {'month': [1, 2, 3], 'name': ['Jan', 'Feb', 'March']}\n",
      "Flattened dictionary : {1: 'Jan', 2: 'Feb', 3: 'March'}\n"
     ]
    }
   ],
   "source": [
    "# initializing dictionary\n",
    "d1 = {'month' : [1, 2, 3],'name' : ['Jan', 'Feb', 'March']}\n",
    "  \n",
    "# printing original dictionary\n",
    "print(\"The original dictionary is : \" + str(d1))\n",
    "  \n",
    "# Convert key-values list to flat dictionary\n",
    "# Using dict() + zip()\n",
    "res = dict(zip(d1['month'], d1['name']))\n",
    "  \n",
    "# printing result \n",
    "print(\"Flattened dictionary : \" + str(res)) "
   ]
  },
  {
   "cell_type": "code",
   "execution_count": null,
   "metadata": {},
   "outputs": [],
   "source": []
  },
  {
   "cell_type": "markdown",
   "metadata": {},
   "source": [
    "5.Write a Python program to insertion at the beginning in OrderedDict?"
   ]
  },
  {
   "cell_type": "code",
   "execution_count": 22,
   "metadata": {},
   "outputs": [
    {
     "data": {
      "text/plain": [
       "OrderedDict([('1', 'Monday'), ('3', 'Tuesday'), ('4', 'Wednesday')])"
      ]
     },
     "execution_count": 22,
     "metadata": {},
     "output_type": "execute_result"
    }
   ],
   "source": [
    "from collections import OrderedDict\n",
    "\n",
    "d1= OrderedDict([('3','Tuesday'),('4','Wednesday')])\n",
    "#adding an element to the ordered dic\n",
    "d1.update({'1':'Monday'})\n",
    "#inserting at the beginning\n",
    "d1.move_to_end('1',last=False)\n",
    "d1"
   ]
  },
  {
   "cell_type": "code",
   "execution_count": null,
   "metadata": {},
   "outputs": [],
   "source": []
  },
  {
   "cell_type": "markdown",
   "metadata": {},
   "source": [
    "6.Write a Python program to check order of character in string using OrderedDict()?"
   ]
  },
  {
   "cell_type": "code",
   "execution_count": 24,
   "metadata": {},
   "outputs": [
    {
     "name": "stdout",
     "output_type": "stream",
     "text": [
      "Enter the string: Deep Learning\n",
      "Enter the pattern for the order:epn\n",
      "Characters are ordered\n"
     ]
    }
   ],
   "source": [
    "def checkOrder(ip, pattern): \n",
    "      \n",
    "    # create empty OrderedDict \n",
    "    # output will be like {'a': None,'b': None, 'c': None} \n",
    "    test_dict = OrderedDict.fromkeys(ip) \n",
    "  \n",
    "    # traverse generated OrderedDict parallel with \n",
    "    # pattern string to check if order of characters \n",
    "    # are same or not \n",
    "    ptrlen = 0\n",
    "    for key,value in test_dict.items(): \n",
    "        if (key == pattern[ptrlen]): \n",
    "            ptrlen = ptrlen + 1\n",
    "          \n",
    "        # check if we have traverse complete \n",
    "        # pattern string \n",
    "        if (ptrlen == (len(pattern))): \n",
    "            return 'Characters are ordered'\n",
    "  \n",
    "    # if we come out from for loop that means \n",
    "    # order was mismatched \n",
    "    return 'Characters are not ordered'\n",
    "\n",
    "s=input(\"Enter the string: \")\n",
    "p=input(\"Enter the pattern for the order:\")\n",
    "print(checkOrder(s,p))"
   ]
  },
  {
   "cell_type": "code",
   "execution_count": null,
   "metadata": {},
   "outputs": [],
   "source": []
  },
  {
   "cell_type": "markdown",
   "metadata": {},
   "source": [
    "7.Write a Python program to sort Python Dictionaries by Key or Value?"
   ]
  },
  {
   "cell_type": "code",
   "execution_count": 38,
   "metadata": {},
   "outputs": [
    {
     "name": "stdout",
     "output_type": "stream",
     "text": [
      "Original dictionary is:  {2: 100, 1: 10, 5: 20, 4: 300, 3: 120}\n",
      "Sorted keys are: \n",
      "1 2 3 4 5 \n",
      "Sorted values are: \n",
      "[(1, 10), (5, 20), (2, 100), (3, 120), (4, 300)]\n"
     ]
    }
   ],
   "source": [
    "def sort_dict_keys(d):\n",
    "    for i in sorted(d.keys()):\n",
    "        print(i,end=\" \")\n",
    "\n",
    "d1={2:100,1:10,5:20,4:300,3:120}\n",
    "print(\"Original dictionary is: \",d1)\n",
    "print(\"Sorted keys are: \")\n",
    "sort_dict_keys(d1)\n",
    "\n",
    "def sort_dict_values(d):\n",
    "    print(sorted(d.items(), key=lambda kv:(kv[1],kv[0])))\n",
    "\n",
    "print(\"\\nSorted values are: \")\n",
    "sort_dict_values(d1)"
   ]
  },
  {
   "cell_type": "code",
   "execution_count": null,
   "metadata": {},
   "outputs": [],
   "source": []
  },
  {
   "cell_type": "code",
   "execution_count": null,
   "metadata": {},
   "outputs": [],
   "source": []
  }
 ],
 "metadata": {
  "kernelspec": {
   "display_name": "Python 3",
   "language": "python",
   "name": "python3"
  },
  "language_info": {
   "codemirror_mode": {
    "name": "ipython",
    "version": 3
   },
   "file_extension": ".py",
   "mimetype": "text/x-python",
   "name": "python",
   "nbconvert_exporter": "python",
   "pygments_lexer": "ipython3",
   "version": "3.7.3"
  }
 },
 "nbformat": 4,
 "nbformat_minor": 2
}
