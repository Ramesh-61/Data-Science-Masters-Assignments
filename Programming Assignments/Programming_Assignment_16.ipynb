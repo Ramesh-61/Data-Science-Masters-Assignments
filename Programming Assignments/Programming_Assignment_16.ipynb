{
 "cells": [
  {
   "cell_type": "markdown",
   "metadata": {},
   "source": [
    "Question1. Write a function that stutters a word as if someone is struggling to read it. The first two letters are repeated twice with an ellipsis ... and space after each, and then the word is pronounced with a question mark ?.\n",
    "\n",
    "Examples\n",
    "\n",
    "stutter(\"incredible\") ➞ \"in... in... incredible?\"\n",
    "\n",
    "stutter(\"enthusiastic\") ➞ \"en... en... enthusiastic?\"\n",
    "\n",
    "stutter(\"outstanding\") ➞ \"ou... ou... outstanding?\"\n",
    "\n",
    "Hint :- Assume all input is in lower case and at least two characters long.\n"
   ]
  },
  {
   "cell_type": "code",
   "execution_count": 2,
   "metadata": {},
   "outputs": [
    {
     "name": "stdout",
     "output_type": "stream",
     "text": [
      "Enter the word: incredible\n",
      "in...in...incredible?\n"
     ]
    }
   ],
   "source": [
    "def word_stutters(word):\n",
    "    return word[:2]+\"...\"+word[:2]+\"...\"+word+\"?\"\n",
    "\n",
    "s=input(\"Enter the word: \")\n",
    "print(word_stutters(s))"
   ]
  },
  {
   "cell_type": "code",
   "execution_count": null,
   "metadata": {},
   "outputs": [],
   "source": []
  },
  {
   "cell_type": "markdown",
   "metadata": {},
   "source": [
    "Question 2.Create a function that takes an angle in radians and returns the corresponding angle in degrees rounded to one decimal place.\n",
    "\n",
    "Examples\n",
    "\n",
    "radians_to_degrees(1) ➞ 57.3\n",
    "\n",
    "radians_to_degrees(20) ➞ 1145.9\n",
    "\n",
    "radians_to_degrees(50) ➞ 2864.8\n"
   ]
  },
  {
   "cell_type": "code",
   "execution_count": 5,
   "metadata": {},
   "outputs": [
    {
     "name": "stdout",
     "output_type": "stream",
     "text": [
      "Enter the radian value:50\n",
      "Corresponding angle in degress for radian 50 is :\n",
      "2864.8\n"
     ]
    }
   ],
   "source": [
    "import math\n",
    "def radians_to_degrees(radian):\n",
    "    print(\"Corresponding angle in degress for radian {} is :\".format(radian))\n",
    "    return round((radian * (180/math.pi)),1)\n",
    "\n",
    "rad=int(input(\"Enter the radian value:\"))\n",
    "print(radians_to_degrees(rad))"
   ]
  },
  {
   "cell_type": "code",
   "execution_count": null,
   "metadata": {},
   "outputs": [],
   "source": []
  },
  {
   "cell_type": "markdown",
   "metadata": {},
   "source": [
    "Question 3. In this challenge, establish if a given integer num is a Curzon number. If 1 plus 2 elevated to num is exactly divisible by 1 plus 2 multiplied by num, then num is a Curzon number.\n",
    "Given a non-negative integer num, implement a function that returns True if num is a Curzon number, or False otherwise.\n",
    "Examples\n",
    "is_curzon(5) ➞ True\n",
    "### 2 ** 5 + 1 = 33\n",
    "### 2 * 5 + 1 = 11\n",
    "### 33 is a multiple of 11\n",
    "\n",
    "is_curzon(10) ➞ False\n",
    "### 2 ** 10 + 1 = 1025\n",
    "### 2 * 10 + 1 = 21\n",
    "### 1025 is not a multiple of 21\n",
    "\n",
    "is_curzon(14) ➞ True\n",
    "### 2 ** 14 + 1 = 16385\n",
    "### 2 * 14 + 1 = 29\n",
    "### 16385 is a multiple of 29\n"
   ]
  },
  {
   "cell_type": "code",
   "execution_count": 8,
   "metadata": {},
   "outputs": [
    {
     "name": "stdout",
     "output_type": "stream",
     "text": [
      "Enter the number: 14\n",
      "14 is curzon number? True\n"
     ]
    }
   ],
   "source": [
    "def is_curzon(n):\n",
    "    #num1 is 1+2**n\n",
    "    num1=1+(2**n)\n",
    "    #num2 is 1+2*n\n",
    "    num2=1+(2*n)\n",
    "    if num1%num2 == 0:\n",
    "        return True\n",
    "    else:\n",
    "        return False\n",
    "\n",
    "num=int(input(\"Enter the number: \"))\n",
    "print(\"{} is curzon number?\".format(num),is_curzon(num))\n",
    "    "
   ]
  },
  {
   "cell_type": "code",
   "execution_count": null,
   "metadata": {},
   "outputs": [],
   "source": []
  },
  {
   "cell_type": "markdown",
   "metadata": {},
   "source": [
    "Question 4. Given the side length x find the area of a hexagon.\n",
    "\n",
    "Area of hexagon = (3*square root(3) *s*s)/2\n",
    "\n",
    "Examples:\n",
    "\n",
    "area_of_hexagon(1) ➞ 2.6\n",
    "\n",
    "area_of_hexagon(2) ➞ 10.4\n",
    "\n",
    "area_of_hexagon(3) ➞ 23.4"
   ]
  },
  {
   "cell_type": "code",
   "execution_count": 12,
   "metadata": {},
   "outputs": [
    {
     "name": "stdout",
     "output_type": "stream",
     "text": [
      "Enter the side length of hexagon: 3\n",
      "Area of hexagon is:  23.4\n"
     ]
    }
   ],
   "source": [
    "def area_Hexagon(side):\n",
    "    area=(3*(3**0.5)*(side**2))/2\n",
    "    return round(area,1)\n",
    "\n",
    "side_length=int(input(\"Enter the side length of hexagon: \"))\n",
    "print(\"Area of hexagon is: \",area_Hexagon(side_length))\n",
    "    "
   ]
  },
  {
   "cell_type": "code",
   "execution_count": null,
   "metadata": {},
   "outputs": [],
   "source": []
  },
  {
   "cell_type": "markdown",
   "metadata": {},
   "source": [
    "Question 5. Create a function that returns a base-2 (binary) representation of a base-10 (decimal) string number. To convert is simple: ((2) means base-2 and (10) means base-10) 010101001(2) = 1 + 8 + 32 + 128.\n",
    "Going from right to left, the value of the most right bit is 1, now from that every bit to the left will be x2 the value, value of an 8 bit binary numbers are (256, 128, 64, 32, 16, 8, 4, 2, 1).\n",
    "\n",
    "Examples\n",
    "\n",
    "binary(1) ➞ \"1\"\n",
    "\n",
    "1*1 = 1\n",
    "\n",
    "binary(5) ➞ \"101\"\n",
    "\n",
    "1 * 1 + 1 * 4 = 5\n",
    "\n",
    "binary(10) ➞ \"1010\"\n",
    "\n",
    "1 * 2 + 1 * 8 = 10\n",
    "\n"
   ]
  },
  {
   "cell_type": "code",
   "execution_count": 25,
   "metadata": {},
   "outputs": [
    {
     "name": "stdout",
     "output_type": "stream",
     "text": [
      "Enter the decimal number: 5\n",
      "Binary form of 5 is \n"
     ]
    },
    {
     "data": {
      "text/plain": [
       "'101'"
      ]
     },
     "execution_count": 25,
     "metadata": {},
     "output_type": "execute_result"
    }
   ],
   "source": [
    "def decimal_to_binary(num):\n",
    "    return bin(num).replace(\"0b\",\"\")\n",
    "    \n",
    "n=int(input(\"Enter the decimal number: \"))\n",
    "print(\"Binary form of {} is \".format(n))\n",
    "decimal_to_binary(n)"
   ]
  },
  {
   "cell_type": "code",
   "execution_count": 16,
   "metadata": {},
   "outputs": [
    {
     "data": {
      "text/plain": [
       "5"
      ]
     },
     "execution_count": 16,
     "metadata": {},
     "output_type": "execute_result"
    }
   ],
   "source": [
    "10//2"
   ]
  },
  {
   "cell_type": "code",
   "execution_count": null,
   "metadata": {},
   "outputs": [],
   "source": []
  }
 ],
 "metadata": {
  "kernelspec": {
   "display_name": "Python 3",
   "language": "python",
   "name": "python3"
  },
  "language_info": {
   "codemirror_mode": {
    "name": "ipython",
    "version": 3
   },
   "file_extension": ".py",
   "mimetype": "text/x-python",
   "name": "python",
   "nbconvert_exporter": "python",
   "pygments_lexer": "ipython3",
   "version": "3.7.3"
  }
 },
 "nbformat": 4,
 "nbformat_minor": 2
}
