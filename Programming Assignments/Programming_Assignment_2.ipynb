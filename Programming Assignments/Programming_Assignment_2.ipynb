{
 "cells": [
  {
   "cell_type": "markdown",
   "metadata": {},
   "source": [
    "1.Write a Python program to convert kilometers to miles?"
   ]
  },
  {
   "cell_type": "code",
   "execution_count": 1,
   "metadata": {},
   "outputs": [
    {
     "name": "stdout",
     "output_type": "stream",
     "text": [
      "Enter the kilometer value: 5\n",
      "Entered value in miles is:  3.106855\n"
     ]
    }
   ],
   "source": [
    "km=float(input(\"Enter the kilometer value: \"))\n",
    "\n",
    "# 1km = 0.621371\n",
    "\n",
    "print(\"Entered value in miles is: \", km*0.621371)"
   ]
  },
  {
   "cell_type": "code",
   "execution_count": null,
   "metadata": {},
   "outputs": [],
   "source": []
  },
  {
   "cell_type": "markdown",
   "metadata": {},
   "source": [
    "2.Write a Python program to convert Celsius to Fahrenheit?"
   ]
  },
  {
   "cell_type": "code",
   "execution_count": 2,
   "metadata": {},
   "outputs": [
    {
     "name": "stdout",
     "output_type": "stream",
     "text": [
      "Enter a degree value: 37.5\n",
      "37.5 defree celsius is equal to 99.50 Fahrenheit\n"
     ]
    }
   ],
   "source": [
    "cel=float(input(\"Enter a degree value: \"))\n",
    "frt= (cel * 9/5) + 32\n",
    "print(\"%0.1f defree celsius is equal to %0.2f Fahrenheit\" %(cel,frt))"
   ]
  },
  {
   "cell_type": "code",
   "execution_count": null,
   "metadata": {},
   "outputs": [],
   "source": []
  },
  {
   "cell_type": "markdown",
   "metadata": {},
   "source": [
    "Write a Python program to display calendar?"
   ]
  },
  {
   "cell_type": "code",
   "execution_count": 3,
   "metadata": {},
   "outputs": [
    {
     "name": "stdout",
     "output_type": "stream",
     "text": [
      "Enter the month: 10\n",
      "Enter the year: 2022\n",
      "    October 2022\n",
      "Mo Tu We Th Fr Sa Su\n",
      "                1  2\n",
      " 3  4  5  6  7  8  9\n",
      "10 11 12 13 14 15 16\n",
      "17 18 19 20 21 22 23\n",
      "24 25 26 27 28 29 30\n",
      "31\n",
      "\n"
     ]
    }
   ],
   "source": [
    "import calendar\n",
    "\n",
    "month=int(input(\"Enter the month: \"))\n",
    "year=int(input(\"Enter the year: \"))\n",
    "\n",
    "print(calendar.month(year,month))"
   ]
  },
  {
   "cell_type": "code",
   "execution_count": null,
   "metadata": {},
   "outputs": [],
   "source": []
  },
  {
   "cell_type": "markdown",
   "metadata": {},
   "source": [
    "4.Write a Python program to solve quadratic equation?"
   ]
  },
  {
   "cell_type": "code",
   "execution_count": 6,
   "metadata": {},
   "outputs": [
    {
     "name": "stdout",
     "output_type": "stream",
     "text": [
      "Enter non-zero coefficient of a: 1\n",
      "Enter the coefficient of b: 4\n",
      "Enter the coefficient of c: 2\n",
      "roots of the equation are : (-3.414213562373095+0j) (-0.5857864376269049+0j)\n"
     ]
    }
   ],
   "source": [
    "import cmath\n",
    "\n",
    "try:\n",
    "    a=int(input(\"Enter non-zero coefficient of a: \"))\n",
    "    b=int(input(\"Enter the coefficient of b: \"))\n",
    "    c=int(input(\"Enter the coefficient of c: \"))\n",
    "    \n",
    "    #calculate discriminant\n",
    "    dis= (b**2) - (4*a*c)\n",
    "    \n",
    "    root1= (-b - cmath.sqrt(dis))/(2*a)\n",
    "    root2= (-b + cmath.sqrt(dis))/(2*a)\n",
    "    \n",
    "    print(\"roots of the equation are :\", root1,root2)\n",
    "except Exception as e:\n",
    "    print(e)\n",
    "    \n",
    "\n"
   ]
  },
  {
   "cell_type": "code",
   "execution_count": null,
   "metadata": {},
   "outputs": [],
   "source": []
  },
  {
   "cell_type": "markdown",
   "metadata": {},
   "source": [
    "5.Write a Python program to swap two variables without temp variable?"
   ]
  },
  {
   "cell_type": "code",
   "execution_count": 5,
   "metadata": {},
   "outputs": [
    {
     "name": "stdout",
     "output_type": "stream",
     "text": [
      "Enter a number: 10\n",
      "Enter a number: 20\n",
      "Before swapping a and b is: 10 20\n",
      "After swapping a and b is: 20 10\n"
     ]
    }
   ],
   "source": [
    "a=int(input(\"Enter a number: \"))\n",
    "b=int(input(\"Enter a number: \"))\n",
    "print(\"Before swapping a and b is:\", a,b)\n",
    "a,b=b,a\n",
    "print(\"After swapping a and b is:\",a,b)"
   ]
  },
  {
   "cell_type": "code",
   "execution_count": null,
   "metadata": {},
   "outputs": [],
   "source": []
  }
 ],
 "metadata": {
  "kernelspec": {
   "display_name": "Python 3",
   "language": "python",
   "name": "python3"
  },
  "language_info": {
   "codemirror_mode": {
    "name": "ipython",
    "version": 3
   },
   "file_extension": ".py",
   "mimetype": "text/x-python",
   "name": "python",
   "nbconvert_exporter": "python",
   "pygments_lexer": "ipython3",
   "version": "3.7.3"
  }
 },
 "nbformat": 4,
 "nbformat_minor": 2
}
