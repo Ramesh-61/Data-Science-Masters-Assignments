{
 "cells": [
  {
   "cell_type": "markdown",
   "metadata": {},
   "source": [
    "1.Write a Python Program to find sum of array?"
   ]
  },
  {
   "cell_type": "code",
   "execution_count": 2,
   "metadata": {},
   "outputs": [
    {
     "name": "stdout",
     "output_type": "stream",
     "text": [
      "Enter the number of elements in the array: 5\n",
      "Enter the elements into the array\n",
      "10\n",
      "5\n",
      "16\n",
      "18\n",
      "20\n",
      "array elements are:  [10, 5, 16, 18, 20]\n",
      "Sum of elements in the array:  69\n"
     ]
    }
   ],
   "source": [
    "n=int(input(\"Enter the number of elements in the array: \"))\n",
    "if n<=0:\n",
    "    print(\"Please enter positive integer\")\n",
    "else:\n",
    "    print(\"Enter the elements into the array\")\n",
    "    arr=[]\n",
    "    for i in range(n):\n",
    "        arr.append(int(input()))\n",
    "\n",
    "print(\"array elements are: \",arr)\n",
    "#Calcualte the sum\n",
    "sum=0\n",
    "for i in arr:\n",
    "    sum+=i\n",
    "print(\"Sum of elements in the array: \",sum)"
   ]
  },
  {
   "cell_type": "code",
   "execution_count": null,
   "metadata": {},
   "outputs": [],
   "source": []
  },
  {
   "cell_type": "markdown",
   "metadata": {},
   "source": [
    "2.Write a Python Program to find largest element in an array?"
   ]
  },
  {
   "cell_type": "code",
   "execution_count": 3,
   "metadata": {},
   "outputs": [
    {
     "name": "stdout",
     "output_type": "stream",
     "text": [
      "Enter the number of elements in the array: 5\n",
      "Enter the elements into the array\n",
      "10\n",
      "18\n",
      "5\n",
      "20\n",
      "50\n",
      "array elements are:  [10, 18, 5, 20, 50]\n",
      "Largest element in the array is:  50\n"
     ]
    }
   ],
   "source": [
    "n=int(input(\"Enter the number of elements in the array: \"))\n",
    "if n<=0:\n",
    "    print(\"Please enter positive integer\")\n",
    "else:\n",
    "    print(\"Enter the elements into the array\")\n",
    "    arr=[]\n",
    "    for i in range(n):\n",
    "        arr.append(int(input()))\n",
    "\n",
    "print(\"array elements are: \",arr)\n",
    "#Initialize the maximum element\n",
    "max=arr[0]\n",
    "for i in range(1,len(arr)):\n",
    "    if arr[i] > max:\n",
    "        max=arr[i]\n",
    "print(\"Largest element in the array is: \",max)"
   ]
  },
  {
   "cell_type": "code",
   "execution_count": null,
   "metadata": {},
   "outputs": [],
   "source": []
  },
  {
   "cell_type": "markdown",
   "metadata": {},
   "source": [
    "3.Write a Python Program for array rotation?"
   ]
  },
  {
   "cell_type": "code",
   "execution_count": 6,
   "metadata": {},
   "outputs": [
    {
     "name": "stdout",
     "output_type": "stream",
     "text": [
      "Enter the number of elements in the array: 5\n",
      "Enter the elements into the array\n",
      "10\n",
      "5\n",
      "8\n",
      "20\n",
      "24\n",
      "Array before rotation: [10, 5, 8, 20, 24]\n",
      "Enter the number of elements to rotate: 2\n",
      "Array after rotation: [8, 20, 24, 10, 5]\n"
     ]
    }
   ],
   "source": [
    "#array creation\n",
    "def array_creation():\n",
    "    n=int(input(\"Enter the number of elements in the array: \"))\n",
    "    if n<=0:\n",
    "        return \"Please enter positive integer\"\n",
    "    else:\n",
    "        print(\"Enter the elements into the array\")\n",
    "        arr=[]\n",
    "        for i in range(n):\n",
    "            arr.append(int(input()))\n",
    "    return arr\n",
    "\n",
    "def array_rotation(arr,n):\n",
    "    nr=int(input(\"Enter the number of elements to rotate: \"))\n",
    "    if nr<=0 or nr > n:\n",
    "        return (\"Please enter number of elements as greater than zero and less than the length of the array\")\n",
    "    else:\n",
    "        temp=[]\n",
    "        #move the number of elements to rotate into temp array\n",
    "        for i in range(nr):\n",
    "            temp.append(arr[i])\n",
    "        #rotate the original array\n",
    "        i=0\n",
    "        while nr<n:\n",
    "            arr[i] = arr[nr]\n",
    "            i+=1\n",
    "            nr+=1\n",
    "        arr[:]=arr[:i] + temp\n",
    "    return arr\n",
    "\n",
    "arr=array_creation()\n",
    "print(\"Array before rotation:\",arr)\n",
    "arr_rotate=array_rotation(arr,len(arr))\n",
    "print(\"Array after rotation:\",arr_rotate)\n",
    "\n"
   ]
  },
  {
   "cell_type": "code",
   "execution_count": null,
   "metadata": {},
   "outputs": [],
   "source": []
  },
  {
   "cell_type": "markdown",
   "metadata": {},
   "source": [
    "4.Write a Python Program to Split the array and add the first part to the end?"
   ]
  },
  {
   "cell_type": "code",
   "execution_count": 7,
   "metadata": {},
   "outputs": [
    {
     "name": "stdout",
     "output_type": "stream",
     "text": [
      "Enter the number of elements in the array: 5\n",
      "Enter the elements into the array\n",
      "2\n",
      "8\n",
      "9\n",
      "15\n",
      "25\n",
      "Array before split: [2, 8, 9, 15, 25]\n",
      "Enter the number of elements to rotate: 2\n",
      "Array after split: [9, 15, 25, 2, 8]\n"
     ]
    }
   ],
   "source": [
    "#array creation\n",
    "def array_creation():\n",
    "    n=int(input(\"Enter the number of elements in the array: \"))\n",
    "    if n<=0:\n",
    "        return \"Please enter positive integer\"\n",
    "    else:\n",
    "        print(\"Enter the elements into the array\")\n",
    "        arr=[]\n",
    "        for i in range(n):\n",
    "            arr.append(int(input()))\n",
    "    return arr\n",
    "\n",
    "def array_split(arr,n):\n",
    "    nr=int(input(\"Enter the number of elements to split: \"))\n",
    "    if nr<=0 or nr > n:\n",
    "        return (\"Please enter number of elements as greater than zero or less than the length of the array\")\n",
    "    else:\n",
    "        #new array to store elements after split position\n",
    "        b=arr[:nr]\n",
    "        return (arr[nr:]+b[::])\n",
    "        \n",
    "\n",
    "arr=array_creation()\n",
    "print(\"Array before split:\",arr)\n",
    "arr_rotate=array_rotation(arr,len(arr))\n",
    "print(\"Array after split:\",arr_rotate)"
   ]
  },
  {
   "cell_type": "code",
   "execution_count": null,
   "metadata": {},
   "outputs": [],
   "source": []
  },
  {
   "cell_type": "markdown",
   "metadata": {},
   "source": [
    "5.Write a Python Program to check if given array is Monotonic?"
   ]
  },
  {
   "cell_type": "code",
   "execution_count": 8,
   "metadata": {},
   "outputs": [
    {
     "name": "stdout",
     "output_type": "stream",
     "text": [
      "Enter the number of elements in the array: 5\n",
      "Enter the elements into the array\n",
      "15\n",
      "18\n",
      "25\n",
      "35\n",
      "55\n",
      "[15, 18, 25, 35, 55]\n",
      "Array is Monotonic?: True\n"
     ]
    }
   ],
   "source": [
    "def array_creation():\n",
    "    n=int(input(\"Enter the number of elements in the array: \"))\n",
    "    if n<=0:\n",
    "        return \"Please enter positive integer\"\n",
    "    else:\n",
    "        print(\"Enter the elements into the array\")\n",
    "        arr=[]\n",
    "        for i in range(n):\n",
    "            arr.append(int(input()))\n",
    "    return arr\n",
    "\n",
    "def isMonotonic(A):\n",
    "  \n",
    "    return (all(A[i] <= A[i + 1] for i in range(len(A) - 1)) or\n",
    "            all(A[i] >= A[i + 1] for i in range(len(A) - 1)))\n",
    "  \n",
    "arr=array_creation()\n",
    "print(arr)\n",
    "print(\"Array is Monotonic?:\",isMonotonic(arr))"
   ]
  },
  {
   "cell_type": "code",
   "execution_count": null,
   "metadata": {},
   "outputs": [],
   "source": []
  }
 ],
 "metadata": {
  "kernelspec": {
   "display_name": "Python 3",
   "language": "python",
   "name": "python3"
  },
  "language_info": {
   "codemirror_mode": {
    "name": "ipython",
    "version": 3
   },
   "file_extension": ".py",
   "mimetype": "text/x-python",
   "name": "python",
   "nbconvert_exporter": "python",
   "pygments_lexer": "ipython3",
   "version": "3.7.3"
  }
 },
 "nbformat": 4,
 "nbformat_minor": 2
}
