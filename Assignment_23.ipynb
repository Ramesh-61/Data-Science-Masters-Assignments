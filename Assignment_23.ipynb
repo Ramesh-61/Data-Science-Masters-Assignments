{
 "cells": [
  {
   "cell_type": "raw",
   "metadata": {},
   "source": [
    "1. What is the result of the code, and why?\n",
    ">>> def func(a, b=6, c=8):\n",
    "print(a, b, c)\n",
    ">>> func(1, 2)"
   ]
  },
  {
   "cell_type": "markdown",
   "metadata": {},
   "source": [
    "The output: 1 2 8\n",
    "    \n",
    "When func(1,2) is executed, the function parameters- a is assgned with 1 and b is assigned with 2 and no value is passed to the c parameter, it prints the default value of the parameter"
   ]
  },
  {
   "cell_type": "code",
   "execution_count": null,
   "metadata": {},
   "outputs": [],
   "source": []
  },
  {
   "cell_type": "raw",
   "metadata": {},
   "source": [
    "2. What is the result of this code, and why?\n",
    ">>> def func(a, b, c=5):\n",
    "print(a, b, c)\n",
    ">>> func(1, c=3, b=2)"
   ]
  },
  {
   "cell_type": "markdown",
   "metadata": {},
   "source": [
    "The output is 1 2 3\n",
    "\n",
    "When func(1,c=3,b=2) is executed, the function func parameters- a is assigned with 1, b is assigned with 2 and c is assigned with 3.\n",
    "when the parameter names are included in the function call, order of the parameter does not matter."
   ]
  },
  {
   "cell_type": "code",
   "execution_count": null,
   "metadata": {},
   "outputs": [],
   "source": []
  },
  {
   "cell_type": "raw",
   "metadata": {},
   "source": [
    "3. How about this code: what is its result, and why?\n",
    ">>> def func(a, *pargs):\n",
    "print(a, pargs)\n",
    ">>> func(1, 2, 3)"
   ]
  },
  {
   "cell_type": "markdown",
   "metadata": {},
   "source": [
    "The output is 1 (2,3)\n",
    "\n",
    "The second parameter in the function definition is nonkeyword agrument *pargs takes variable numbrer of arguments.\n",
    "\n",
    "When func(1,2,3) is executed 1 is assigned to the parameter a and 2,3 is assigned to the Non-keyword argument pargs and it prints the values of a and pargs."
   ]
  },
  {
   "cell_type": "code",
   "execution_count": null,
   "metadata": {},
   "outputs": [],
   "source": []
  },
  {
   "cell_type": "raw",
   "metadata": {},
   "source": [
    "4. What does this code print, and why?\n",
    ">>> def func(a, **kargs):\n",
    "print(a, kargs)\n",
    ">>> func(a=1, c=3, b=2)"
   ]
  },
  {
   "cell_type": "markdown",
   "metadata": {},
   "source": [
    "The output is 1 {'c': 3, 'b': 2}\n",
    "\n",
    "The second paramter in the function definition is keyword argument which takes keyworded variable number of arguments. Keyword argument stores key-value pairs similar to the dictionary.\n",
    "When func(a=1, c=3, b=2) is executed, it print 1 and the values of b and c are printed like dictionary."
   ]
  },
  {
   "cell_type": "code",
   "execution_count": null,
   "metadata": {},
   "outputs": [],
   "source": []
  },
  {
   "cell_type": "raw",
   "metadata": {},
   "source": [
    "5. What gets printed by this, and explain?\n",
    ">>> def func(a, b, c=8, d=5): print(a, b, c, d)\n",
    ">>> func(1, *(5, 6))"
   ]
  },
  {
   "cell_type": "markdown",
   "metadata": {},
   "source": [
    "The output is 1 5 6 5\n",
    "\n",
    "When asterick is put before the tuple values (5,6) it is unpacked and stored in args tuple, so 5 and 6 is assigned to b and c parameters in the function.\n",
    "\n",
    "When fun(1,*(5,6)) is executed, a is assigned with 1, b and c is assigned with 5 and 6 and no value is passed to d, it prints 5"
   ]
  },
  {
   "cell_type": "code",
   "execution_count": null,
   "metadata": {},
   "outputs": [],
   "source": []
  },
  {
   "cell_type": "raw",
   "metadata": {},
   "source": [
    "6. what is the result of this, and explain?\n",
    ">>> def func(a, b, c): a = 2; b[0] = 'x'; c['a'] = 'y'\n",
    ">>> l=1; m=[1]; n={'a':0}\n",
    ">>> func(l, m, n)\n",
    ">>> l, m, n"
   ]
  },
  {
   "cell_type": "markdown",
   "metadata": {},
   "source": [
    "The ouput is (1, ['x'], {'a': 'y'})\n",
    "\n",
    "The three arguments passed to the function parameters are variable, list and dictionary.\n",
    "\n",
    "Variable l=1 is passed to the parameter a and inside function a is assigned with 2 and when function execution is done a will be lost since it is a local variable.\n",
    "\n",
    "list m=[1] is passed to the parameter b and inside function the list is modified to m[0]='x'.\n",
    "\n",
    "dictionary n={'a':0} is passed to the parameter c and it is modified to n={'a':'y'}.\n",
    "\n",
    "So when l,m,n is executed, it prints 1,['x'],{'a':0}"
   ]
  },
  {
   "cell_type": "code",
   "execution_count": null,
   "metadata": {},
   "outputs": [],
   "source": []
  }
 ],
 "metadata": {
  "kernelspec": {
   "display_name": "Python 3",
   "language": "python",
   "name": "python3"
  },
  "language_info": {
   "codemirror_mode": {
    "name": "ipython",
    "version": 3
   },
   "file_extension": ".py",
   "mimetype": "text/x-python",
   "name": "python",
   "nbconvert_exporter": "python",
   "pygments_lexer": "ipython3",
   "version": "3.7.3"
  }
 },
 "nbformat": 4,
 "nbformat_minor": 2
}
